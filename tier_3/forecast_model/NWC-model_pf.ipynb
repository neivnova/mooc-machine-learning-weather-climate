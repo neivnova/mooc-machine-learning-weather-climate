{
 "cells": [
  {
   "cell_type": "markdown",
   "id": "161c5657",
   "metadata": {
    "id": "161c5657"
   },
   "source": [
    "# TrajGRU Nowcasting Models\n",
    "\n",
    "The aim of this notebook is to generate nowcasting forecasts using the two different TrajGRU methods developed by Fondazione Bruno Kessler and Arpae and to analyse the results by understanding the differences between the two models.\n",
    "\n",
    "The models that will be used have already been trained. As seen in the introductory slides, 198799 sequences were used to train these models."
   ]
  },
  {
   "cell_type": "markdown",
   "id": "185bd92f",
   "metadata": {},
   "source": [
    "<style>\n",
    "td, th {\n",
    "   border: 1px solid white;\n",
    "   border-collapse: collapse;\n",
    "}\n",
    "</style>\n",
    "<table align=\"left\">\n",
    "  <tr>\n",
    "    <th>Run the tutorial in Colab: </th>\n",
    "    <th><a href=\"https://colab.research.google.com/github/neivnova/mooc-machine-learning-weather-climate/blob/main/tier_3/forecast_model/NWC-model_pf.ipynb\">\n",
    "        <img src = \"https://colab.research.google.com/assets/colab-badge.svg\" alt = \"Colab\"></th>\n",
    "  </tr>\n",
    "</table>"
   ]
  },
  {
   "cell_type": "markdown",
   "id": "758ef5bd",
   "metadata": {
    "id": "758ef5bd"
   },
   "source": [
    "## Clone repo with model code and install required modules\n",
    "\n"
   ]
  },
  {
   "cell_type": "code",
   "execution_count": null,
   "id": "2b40db2c",
   "metadata": {
    "colab": {
     "base_uri": "https://localhost:8080/"
    },
    "executionInfo": {
     "elapsed": 112968,
     "status": "ok",
     "timestamp": 1679496823523,
     "user": {
      "displayName": "Gabriele Franch",
      "userId": "15508114924687313556"
     },
     "user_tz": -60
    },
    "id": "2b40db2c",
    "outputId": "e792d1ab-c305-4111-cf38-74342d7a97b1",
    "tags": []
   },
   "outputs": [],
   "source": [
    "!git clone https://gitlab.fbk.eu/dsip/dsip_meteo/miarad/miarad-mooc.git \n",
    "!pip install --no-binary shapely shapely --force --proxy=\"\"\n",
    "!pip install torch matplotlib cartopy NetCDF4 --proxy=\"\""
   ]
  },
  {
   "cell_type": "markdown",
   "id": "FJMGYVVIrW5h",
   "metadata": {
    "id": "FJMGYVVIrW5h"
   },
   "source": [
    "## Change to working directory"
   ]
  },
  {
   "cell_type": "code",
   "execution_count": 1,
   "id": "Bd7pClDPrg7Q",
   "metadata": {
    "colab": {
     "base_uri": "https://localhost:8080/"
    },
    "executionInfo": {
     "elapsed": 8,
     "status": "ok",
     "timestamp": 1679496832968,
     "user": {
      "displayName": "Gabriele Franch",
      "userId": "15508114924687313556"
     },
     "user_tz": -60
    },
    "id": "Bd7pClDPrg7Q",
    "outputId": "31add05b-df61-4f2e-9298-3a7c7dc740fb",
    "tags": []
   },
   "outputs": [
    {
     "name": "stdout",
     "output_type": "stream",
     "text": [
      "C:\\Users\\frei_p\\OneDrive - alpiq.com\\ecmwf_mooc_ml\\github_code\\mooc-machine-learning-weather-climate\\tier_3\\forecast_model\\miarad-mooc\n"
     ]
    }
   ],
   "source": [
    "%cd miarad-mooc"
   ]
  },
  {
   "cell_type": "markdown",
   "id": "3e83cd05",
   "metadata": {
    "id": "3e83cd05"
   },
   "source": [
    "## Importing the necessary modules"
   ]
  },
  {
   "cell_type": "code",
   "execution_count": 2,
   "id": "261b7daf",
   "metadata": {
    "executionInfo": {
     "elapsed": 9493,
     "status": "ok",
     "timestamp": 1679496845266,
     "user": {
      "displayName": "Gabriele Franch",
      "userId": "15508114924687313556"
     },
     "user_tz": -60
    },
    "id": "261b7daf"
   },
   "outputs": [
    {
     "name": "stderr",
     "output_type": "stream",
     "text": [
      "c:\\users\\frei_p\\onedrive - alpiq.com\\ecmwf_mooc_ml\\github_code\\mooc-machine-learning-weather-climate\\venv\\lib\\site-packages\\tqdm\\auto.py:22: TqdmWarning: IProgress not found. Please update jupyter and ipywidgets. See https://ipywidgets.readthedocs.io/en/stable/user_install.html\n",
      "  from .autonotebook import tqdm as notebook_tqdm\n"
     ]
    },
    {
     "ename": "ImportError",
     "evalue": "DLL load failed while importing trace: Das angegebene Modul wurde nicht gefunden.",
     "output_type": "error",
     "traceback": [
      "\u001B[1;31m---------------------------------------------------------------------------\u001B[0m",
      "\u001B[1;31mImportError\u001B[0m                               Traceback (most recent call last)",
      "Cell \u001B[1;32mIn[2], line 12\u001B[0m\n\u001B[0;32m      9\u001B[0m \u001B[38;5;28;01mfrom\u001B[39;00m \u001B[38;5;21;01mcollections\u001B[39;00m \u001B[38;5;28;01mimport\u001B[39;00m Counter\n\u001B[0;32m     11\u001B[0m \u001B[38;5;66;03m# Modules needed for visualization\u001B[39;00m\n\u001B[1;32m---> 12\u001B[0m \u001B[38;5;28;01mimport\u001B[39;00m \u001B[38;5;21;01mcartopy\u001B[39;00m\n\u001B[0;32m     13\u001B[0m \u001B[38;5;28;01mfrom\u001B[39;00m \u001B[38;5;21;01mcartopy\u001B[39;00m \u001B[38;5;28;01mimport\u001B[39;00m crs \u001B[38;5;28;01mas\u001B[39;00m ccrs\n\u001B[0;32m     14\u001B[0m \u001B[38;5;28;01mfrom\u001B[39;00m \u001B[38;5;21;01mcartopy\u001B[39;00m \u001B[38;5;28;01mimport\u001B[39;00m feature \u001B[38;5;28;01mas\u001B[39;00m cfeature\n",
      "File \u001B[1;32mc:\\users\\frei_p\\onedrive - alpiq.com\\ecmwf_mooc_ml\\github_code\\mooc-machine-learning-weather-climate\\venv\\lib\\site-packages\\cartopy\\__init__.py:110\u001B[0m\n\u001B[0;32m    105\u001B[0m     \u001B[38;5;28;01mpass\u001B[39;00m\n\u001B[0;32m    108\u001B[0m \u001B[38;5;66;03m# Commonly used sub-modules. Imported here to provide end-user\u001B[39;00m\n\u001B[0;32m    109\u001B[0m \u001B[38;5;66;03m# convenience.\u001B[39;00m\n\u001B[1;32m--> 110\u001B[0m \u001B[38;5;28;01mimport\u001B[39;00m \u001B[38;5;21;01mcartopy\u001B[39;00m\u001B[38;5;21;01m.\u001B[39;00m\u001B[38;5;21;01mcrs\u001B[39;00m\n\u001B[0;32m    111\u001B[0m \u001B[38;5;28;01mimport\u001B[39;00m \u001B[38;5;21;01mcartopy\u001B[39;00m\u001B[38;5;21;01m.\u001B[39;00m\u001B[38;5;21;01mfeature\u001B[39;00m  \u001B[38;5;66;03m# noqa: F401  (flake8 = unused import)\u001B[39;00m\n",
      "File \u001B[1;32mc:\\users\\frei_p\\onedrive - alpiq.com\\ecmwf_mooc_ml\\github_code\\mooc-machine-learning-weather-climate\\venv\\lib\\site-packages\\cartopy\\crs.py:27\u001B[0m\n\u001B[0;32m     24\u001B[0m \u001B[38;5;28;01mfrom\u001B[39;00m \u001B[38;5;21;01mpyproj\u001B[39;00m\u001B[38;5;21;01m.\u001B[39;00m\u001B[38;5;21;01mexceptions\u001B[39;00m \u001B[38;5;28;01mimport\u001B[39;00m ProjError\n\u001B[0;32m     25\u001B[0m \u001B[38;5;28;01mfrom\u001B[39;00m \u001B[38;5;21;01mshapely\u001B[39;00m\u001B[38;5;21;01m.\u001B[39;00m\u001B[38;5;21;01mprepared\u001B[39;00m \u001B[38;5;28;01mimport\u001B[39;00m prep\n\u001B[1;32m---> 27\u001B[0m \u001B[38;5;28;01mimport\u001B[39;00m \u001B[38;5;21;01mcartopy\u001B[39;00m\u001B[38;5;21;01m.\u001B[39;00m\u001B[38;5;21;01mtrace\u001B[39;00m\n\u001B[0;32m     30\u001B[0m \u001B[38;5;28;01mtry\u001B[39;00m:\n\u001B[0;32m     31\u001B[0m     \u001B[38;5;66;03m# https://github.com/pyproj4/pyproj/pull/912\u001B[39;00m\n\u001B[0;32m     32\u001B[0m     \u001B[38;5;28;01mfrom\u001B[39;00m \u001B[38;5;21;01mpyproj\u001B[39;00m\u001B[38;5;21;01m.\u001B[39;00m\u001B[38;5;21;01mcrs\u001B[39;00m \u001B[38;5;28;01mimport\u001B[39;00m CustomConstructorCRS \u001B[38;5;28;01mas\u001B[39;00m _CRS\n",
      "\u001B[1;31mImportError\u001B[0m: DLL load failed while importing trace: Das angegebene Modul wurde nicht gefunden."
     ]
    }
   ],
   "source": [
    "import gzip\n",
    "import numpy as np\n",
    "from model import TorchModel\n",
    "import netCDF4\n",
    "\n",
    "import tarfile\n",
    "import os\n",
    "from datetime import datetime, timedelta\n",
    "from collections import Counter\n",
    "\n",
    "# Modules needed for visualization\n",
    "import cartopy\n",
    "from cartopy import crs as ccrs\n",
    "from cartopy import feature as cfeature\n",
    "import matplotlib\n",
    "from matplotlib import pyplot as plt\n",
    "from matplotlib.colors import from_levels_and_colors"
   ]
  },
  {
   "cell_type": "markdown",
   "id": "044011b7",
   "metadata": {
    "id": "044011b7"
   },
   "source": [
    "## Observations\n",
    "Every forecast begins with observations. \n",
    "The models were trained by giving a sequence of 5 images as input and predicting 20 timesteps as output. So, as input, we prepare an array with a sequence of 5 images.\n",
    "\n",
    "You can choose between two case studies:\n",
    "1. Convective event over the Northern Italy occurred on 28 May 2022 (you can choose between 2022/05/28 15:00 and 2022/05/28 16:00 as start date of the forecast)\n",
    "2. Stratiform event over the Northern Italy occurred on 22 April 2022 (you can choose between 2022/04/22 08:00 and 2022/04/22 09:00 as start date of the forecast)"
   ]
  },
  {
   "cell_type": "code",
   "execution_count": null,
   "id": "7be4d9ec",
   "metadata": {
    "executionInfo": {
     "elapsed": 25,
     "status": "ok",
     "timestamp": 1679496845267,
     "user": {
      "displayName": "Gabriele Franch",
      "userId": "15508114924687313556"
     },
     "user_tz": -60
    },
    "id": "7be4d9ec"
   },
   "outputs": [],
   "source": [
    "# Define the start date of the forecast.\n",
    "# *******************************************************************************************\n",
    "# HERE YOU CAN CHOOSE THE DATE in the format YYYYMMDDhhmm\n",
    "# *******************************************************************************************\n",
    "start_datetime = 202205281520"
   ]
  },
  {
   "cell_type": "markdown",
   "id": "dc3c6113",
   "metadata": {
    "id": "dc3c6113"
   },
   "source": [
    "### Observation files\n",
    "Observation files are zip NetCDF files containing the radar reflectivity composite obtained by combining data from the San Pietro Capofiume and Gattatico radars (located in the Emilia-Romagna region) and using the nearest ground data cleaned of non-weather signals.\n",
    "\n",
    "The variable **reflectivity** is stored as **Z_60**.\n",
    "Other useful information (to geolocalise observations) are:\n",
    "- latitudes (variable **lat**)\n",
    "- longitudes(variable **lon**)\n",
    "- geographic map limits (variable **geo_dim**) \n",
    "- resolution of the data in degrees (variable **mesh_dim**)"
   ]
  },
  {
   "cell_type": "code",
   "execution_count": null,
   "id": "57a60845",
   "metadata": {
    "colab": {
     "base_uri": "https://localhost:8080/"
    },
    "executionInfo": {
     "elapsed": 8,
     "status": "ok",
     "timestamp": 1679496850600,
     "user": {
      "displayName": "Gabriele Franch",
      "userId": "15508114924687313556"
     },
     "user_tz": -60
    },
    "id": "57a60845",
    "outputId": "ed8e3af5-bd6e-4d4f-ab3a-c5ef77d2bb41"
   },
   "outputs": [],
   "source": [
    "# Empty input array \n",
    "input_arr = []\n",
    "# The models were trained by giving a sequence of 5 images as input and predicting 20 timesteps as output.\n",
    "for i in range(0, 25, 5):\n",
    "    print( \"Opening file: refl_example_data/COMP_{}.nc.gz\".format( start_datetime + i ) )\n",
    "    # Let's create a list containing the reflectivity needed as input to the prediction.\n",
    "    input_arr.append(netCDF4.Dataset('file', memory=gzip.open(f'refl_example_data/COMP_{start_datetime + i}.nc.gz').read())['Z_60'][:])\n",
    "input_arr = np.ma.concatenate(input_arr)"
   ]
  },
  {
   "cell_type": "markdown",
   "id": "56d0d5a2",
   "metadata": {
    "id": "56d0d5a2"
   },
   "source": [
    "Reflectivity values range from 0 to 60 dBZ. In this NetCFD encoding, the missing value is set equal to -19.686274 dBZ."
   ]
  },
  {
   "cell_type": "code",
   "execution_count": null,
   "id": "b28130c5",
   "metadata": {
    "colab": {
     "base_uri": "https://localhost:8080/"
    },
    "executionInfo": {
     "elapsed": 4,
     "status": "ok",
     "timestamp": 1679496853562,
     "user": {
      "displayName": "Gabriele Franch",
      "userId": "15508114924687313556"
     },
     "user_tz": -60
    },
    "id": "b28130c5",
    "outputId": "15511d69-6d2c-456d-9809-220dc19948e3"
   },
   "outputs": [],
   "source": [
    "# Shape of the array\n",
    "print( input_arr.shape )\n",
    "\n",
    "# It is possible to see reflectivity values of the observed reflectivities.\n",
    "print( \"Refl. min.= \", input_arr.min(), \" Refl. max = \", input_arr.max() )"
   ]
  },
  {
   "cell_type": "markdown",
   "id": "2b3951bf",
   "metadata": {
    "id": "2b3951bf"
   },
   "source": [
    "### Observation visualization\n",
    "To visualize reflectivity data we need:\n",
    "- reflectivity fields (already stored in the **input_arr** variable)\n",
    "- latitudes and longitudes"
   ]
  },
  {
   "cell_type": "code",
   "execution_count": null,
   "id": "3b0a9c88",
   "metadata": {
    "colab": {
     "base_uri": "https://localhost:8080/"
    },
    "executionInfo": {
     "elapsed": 6,
     "status": "ok",
     "timestamp": 1679496857633,
     "user": {
      "displayName": "Gabriele Franch",
      "userId": "15508114924687313556"
     },
     "user_tz": -60
    },
    "id": "3b0a9c88",
    "outputId": "4a06b539-6aba-41da-f5ff-4c98006bce80"
   },
   "outputs": [],
   "source": [
    "# Read longitudes and latutides from zip NetCDF observation files\n",
    "lon = netCDF4.Dataset('file', memory=gzip.open(f'refl_example_data/COMP_{start_datetime + i}.nc.gz').read())['lon'][:]\n",
    "lat = netCDF4.Dataset('file', memory=gzip.open(f'refl_example_data/COMP_{start_datetime + i}.nc.gz').read())['lat'][:]\n",
    "\n",
    "print(\"Geographical extent of data\")\n",
    "print(\"Lat min/max: \", lat.min(), lat.max())\n",
    "print(\"Lon min/max: \", lon.min(), lon.max())"
   ]
  },
  {
   "cell_type": "markdown",
   "id": "e91d9992",
   "metadata": {
    "id": "e91d9992"
   },
   "source": [
    "In the following cell, the code allows the display of observed reflectivities. \n",
    "It is possible to display:\n",
    "- a different instant of the 5 in input by changing the index in **input_arr** when applying the  *ax.pcolormesh* function (for example: input_arr[-1] -> input_arr[0]);\n",
    "- a different zoom of the image. As default the whole domain is visualized. It is possible to zoom in by modifying the map extension with the function *ax.set_extent*."
   ]
  },
  {
   "cell_type": "code",
   "execution_count": null,
   "id": "6b6f45b6",
   "metadata": {
    "colab": {
     "base_uri": "https://localhost:8080/",
     "height": 805
    },
    "executionInfo": {
     "elapsed": 7225,
     "status": "ok",
     "timestamp": 1679496870161,
     "user": {
      "displayName": "Gabriele Franch",
      "userId": "15508114924687313556"
     },
     "user_tz": -60
    },
    "id": "6b6f45b6",
    "outputId": "af386748-b2fe-42e3-c562-fa0426bba6f7"
   },
   "outputs": [],
   "source": [
    "# Preparatory steps to visualisation. The image will be displayed for convenience with a discrete colour scale.\n",
    "# Definition of reflectivity levels to be displayed.\n",
    "levels = [ -20., 0., 10., 15., 20., 25., 30., 35., 40., 50., 60. ]\n",
    "# Colors selection\n",
    "colors = ['#636363', '#d9d9d9', '#3288bd', '#66c2a5', '#abdda4',\n",
    "          '#e6f598', '#fee08b', '#fdae61', '#f46d43', '#d53e4f' ]\n",
    "cmap, norm = from_levels_and_colors( levels, colors, extend='neither' )\n",
    "\n",
    "fig = plt.figure( figsize = (14, 12) )\n",
    "font = { 'size': 14 }\n",
    "plt.rc( 'font', **font )\n",
    "\n",
    "# Definition of projection \n",
    "ax = plt.axes( projection=ccrs.PlateCarree() )\n",
    "# *******************************************************************************************\n",
    "# HERE YOU CAN CHANGE THE MAP EXTENSION and enhance small-scale structures.\n",
    "# If you want to see the whole domain you can comment the ax.set_extent function.\n",
    "# *******************************************************************************************\n",
    "ax.set_extent([9.,11.,44.,46.])\n",
    "\n",
    "# Reflectivity data plot\n",
    "# *******************************************************************************************\n",
    "# HERE YOU CAN CHANGE THE INDEX IN input_arr\n",
    "# *******************************************************************************************\n",
    "pcm = ax.pcolormesh(lon, lat, input_arr[-1], cmap=cmap, norm=norm )\n",
    "\n",
    "# Colorbar\n",
    "cax, kw = matplotlib.colorbar.make_axes( ax, location='right', pad=0.05, shrink=0.7 )\n",
    "cbar = fig.colorbar( pcm, cax=cax, extend='max', ticks=levels, **kw )\n",
    "cbar.ax.set_ylabel( 'dBZ' )\n",
    "\n",
    "# We add coastlines and other geographical features\n",
    "ax.coastlines( resolution='10m' ) \n",
    "ax.add_feature( cfeature.NaturalEarthFeature(category='cultural', \n",
    "                                             name='admin_0_boundary_lines_land', scale='10m' ),\n",
    "                   edgecolor='k', facecolor='none' )\n",
    "ax.add_feature( cartopy.feature.LAKES.with_scale('10m'), edgecolor='k', facecolor='none')\n",
    "\n",
    "# Grids\n",
    "gl = ax.gridlines( draw_labels=True, linestyle='--' )\n",
    "gl.top_labels = False\n",
    "gl.right_labels = False"
   ]
  },
  {
   "cell_type": "markdown",
   "id": "47c42baf",
   "metadata": {
    "id": "47c42baf"
   },
   "source": [
    "Reflectivity values equal to 60 dBZ are in white. Higher reflectivities (reddish colors) are representative of the convective nuclei. "
   ]
  },
  {
   "cell_type": "markdown",
   "id": "899bab9c",
   "metadata": {
    "id": "899bab9c"
   },
   "source": [
    "## TrajGRU model - 1 channel\n",
    "The first model that we will use to make nowcasting forecasts is the one trained only with reflectivity images as input. "
   ]
  },
  {
   "cell_type": "code",
   "execution_count": null,
   "id": "c934a503",
   "metadata": {
    "executionInfo": {
     "elapsed": 1208,
     "status": "ok",
     "timestamp": 1679496875740,
     "user": {
      "displayName": "Gabriele Franch",
      "userId": "15508114924687313556"
     },
     "user_tz": -60
    },
    "id": "c934a503"
   },
   "outputs": [],
   "source": [
    "# Upload the model \n",
    "model_1ch = TorchModel.from_saved_model('trained_models/trajgru_torch_1ch_397000.pth' )"
   ]
  },
  {
   "cell_type": "markdown",
   "id": "4d2bbbec",
   "metadata": {
    "id": "4d2bbbec"
   },
   "source": [
    "We can see that, as input, the model expects only one type of data. We display the model configuration and among the various parameters we see that **in_channels=1**"
   ]
  },
  {
   "cell_type": "code",
   "execution_count": null,
   "id": "c3832563",
   "metadata": {
    "colab": {
     "base_uri": "https://localhost:8080/"
    },
    "executionInfo": {
     "elapsed": 8,
     "status": "ok",
     "timestamp": 1679496875741,
     "user": {
      "displayName": "Gabriele Franch",
      "userId": "15508114924687313556"
     },
     "user_tz": -60
    },
    "id": "c3832563",
    "outputId": "bf2e663e-10f9-4804-de6d-df28f8379460",
    "scrolled": true
   },
   "outputs": [],
   "source": [
    "# It is possible to see the configuration of the model\n",
    "model_1ch_cfg = model_1ch.cfg\n",
    "print( model_1ch_cfg )"
   ]
  },
  {
   "cell_type": "markdown",
   "id": "f31eb27e",
   "metadata": {
    "id": "f31eb27e"
   },
   "source": [
    "### Forecast\n",
    "To use the model in inference, simply call the function specifically created to generate the prediction.\n",
    "This function prepares the fields by applying padding and runs the prediction.\n",
    "\n",
    "While GPUs had to be used to train the model, the forecast can be done on CPUs. In inference, the model is computationally light.\n",
    "\n",
    "By default, the model performs a forecast of 20 steps (100 minutes). Lead times for which the model has been trained.\n",
    "It is possible to request less timesteps in the output, but also more. In this latter case the model will behave in an unknown way (considering that it has not been trained for forecasts > 100 minutes).\n",
    "\n",
    "If you want to try to request more than 20 time steps in output, here you can try up to 36 (3 hours forecast)."
   ]
  },
  {
   "cell_type": "code",
   "execution_count": null,
   "id": "9f0dc286",
   "metadata": {
    "executionInfo": {
     "elapsed": 9002,
     "status": "ok",
     "timestamp": 1679496888985,
     "user": {
      "displayName": "Gabriele Franch",
      "userId": "15508114924687313556"
     },
     "user_tz": -60
    },
    "id": "9f0dc286"
   },
   "outputs": [],
   "source": [
    "# Make the forecast.\n",
    "# *******************************************************************************************\n",
    "# HERE YOU CAN CHANGE THE NUMBER OF FORECASTS adding out_len to the function parameters.\n",
    "# For example:\n",
    "# pred_1ch = model_1ch.predict_arpae_composite(input_arr, out_len=10)\n",
    "# *******************************************************************************************\n",
    "pred_1ch = model_1ch.predict_arpae_composite(input_arr)"
   ]
  },
  {
   "cell_type": "markdown",
   "id": "48da35c7",
   "metadata": {
    "id": "48da35c7"
   },
   "source": [
    "To get a quick overview of the forecasted fields, they can be displayed side by side. <BR>\n",
    "What you can notice is the **rapid smoothing of the field as the forecast lead time increases**."
   ]
  },
  {
   "cell_type": "code",
   "execution_count": null,
   "id": "dcb4c4f2",
   "metadata": {
    "colab": {
     "base_uri": "https://localhost:8080/",
     "height": 83
    },
    "executionInfo": {
     "elapsed": 33,
     "status": "ok",
     "timestamp": 1679496888986,
     "user": {
      "displayName": "Gabriele Franch",
      "userId": "15508114924687313556"
     },
     "user_tz": -60
    },
    "id": "dcb4c4f2",
    "outputId": "8f8ed57f-481c-4bc0-d40b-543916d2e84e"
   },
   "outputs": [],
   "source": [
    "fig, ax = plt.subplots(figsize=(30, 3))\n",
    "plt.imshow(np.concatenate(pred_1ch.squeeze(),axis=1), origin='lower')"
   ]
  },
  {
   "cell_type": "markdown",
   "id": "d03f8e4c",
   "metadata": {
    "id": "d03f8e4c"
   },
   "source": [
    "To really understand what the forecast field looks like, however, it is necessary to look at it in detail by viewing the individual time steps."
   ]
  },
  {
   "cell_type": "code",
   "execution_count": null,
   "id": "1f125a1b",
   "metadata": {
    "executionInfo": {
     "elapsed": 5,
     "status": "ok",
     "timestamp": 1679496894090,
     "user": {
      "displayName": "Gabriele Franch",
      "userId": "15508114924687313556"
     },
     "user_tz": -60
    },
    "id": "1f125a1b"
   },
   "outputs": [],
   "source": [
    "# *******************************************************************************************\n",
    "# CHOOSE which instant of the forecast to see (in minutes)\n",
    "# *******************************************************************************************\n",
    "fcst_time = 10"
   ]
  },
  {
   "cell_type": "code",
   "execution_count": null,
   "id": "ca291d6c",
   "metadata": {
    "colab": {
     "base_uri": "https://localhost:8080/",
     "height": 366
    },
    "executionInfo": {
     "elapsed": 2652,
     "status": "ok",
     "timestamp": 1679496896739,
     "user": {
      "displayName": "Gabriele Franch",
      "userId": "15508114924687313556"
     },
     "user_tz": -60
    },
    "id": "ca291d6c",
    "outputId": "04a33407-a90b-438f-d127-5ca713f5e973"
   },
   "outputs": [],
   "source": [
    "# Preparatory steps to visualisation. The image will be displayed for convenience with a discrete colour scale.\n",
    "# Definition of reflectivity levels to be displayed.\n",
    "levels = [ -20., 0., 10., 15., 20., 25., 30., 35., 40., 50., 60. ]\n",
    "# Colors selection\n",
    "colors = ['#636363', '#d9d9d9', '#3288bd', '#66c2a5', '#abdda4',\n",
    "          '#e6f598', '#fee08b', '#fdae61', '#f46d43', '#d53e4f' ]\n",
    "cmap, norm = from_levels_and_colors( levels, colors, extend='neither' )\n",
    "\n",
    "fig = plt.figure( figsize = (14, 12) )\n",
    "font = { 'size': 14 }\n",
    "plt.rc( 'font', **font )\n",
    "\n",
    "# Definition of projection \n",
    "ax1 = fig.add_subplot(121, projection=ccrs.PlateCarree() )\n",
    "ax2 = fig.add_subplot(122, projection=ccrs.PlateCarree() )\n",
    "# *******************************************************************************************\n",
    "# HERE YOU CAN CHANGE THE MAP EXTENSION and enhance small-scale structures.\n",
    "# If you want to see the whole domain you can comment the ax.set_extent function.\n",
    "# *******************************************************************************************\n",
    "#ax.set_extent([9.,11.,44.,46.])\n",
    "\n",
    "# Forecasted reflectivity data plot\n",
    "pcm = ax1.pcolormesh(lon, lat, pred_1ch[int(fcst_time/5-1)], cmap=cmap, norm=norm )\n",
    "\n",
    "# Read and plot the corresponding observation\n",
    "obs = netCDF4.Dataset('file', memory=gzip.open(f'refl_example_data/COMP_{start_datetime + 5 + int(fcst_time/5-1)*5}.nc.gz').read())['Z_60'][:]\n",
    "pcm = ax2.pcolormesh(lon, lat, obs[0], cmap=cmap, norm=norm )\n",
    "\n",
    "# Colorbar\n",
    "cax, kw = matplotlib.colorbar.make_axes( ax1, location='right', pad=0.02, shrink=0.5 )\n",
    "cbar = fig.colorbar( pcm, cax=cax, extend='max', ticks=levels, **kw )\n",
    "cbar.ax.set_ylabel( 'dBZ' )\n",
    "\n",
    "cax, kw = matplotlib.colorbar.make_axes( ax2, location='right', pad=0.02, shrink=0.5 )\n",
    "cbar = fig.colorbar( pcm, cax=cax, extend='max', ticks=levels, **kw )\n",
    "cbar.ax.set_ylabel( 'dBZ' )\n",
    "\n",
    "# Add coastlines and other geographical features for both images\n",
    "ax1.coastlines( resolution='10m' ) \n",
    "ax1.add_feature( cfeature.NaturalEarthFeature(category='cultural', \n",
    "                                             name='admin_0_boundary_lines_land', scale='10m' ),\n",
    "                   edgecolor='k', facecolor='none' )\n",
    "\n",
    "ax1.add_feature( cartopy.feature.LAKES.with_scale('10m'), edgecolor='k', facecolor='none')\n",
    "\n",
    "ax2.coastlines( resolution='10m' ) \n",
    "ax2.add_feature( cfeature.NaturalEarthFeature(category='cultural', \n",
    "                                             name='admin_0_boundary_lines_land', scale='10m' ),\n",
    "                   edgecolor='k', facecolor='none' )\n",
    "ax2.add_feature( cartopy.feature.LAKES.with_scale('10m'), edgecolor='k', facecolor='none')\n",
    "\n",
    "# Grids\n",
    "gl = ax1.gridlines( draw_labels=False, linestyle='--' )\n",
    "gl = ax2.gridlines( draw_labels=False, linestyle='--' )"
   ]
  },
  {
   "cell_type": "markdown",
   "id": "7fa42c52",
   "metadata": {
    "id": "7fa42c52"
   },
   "source": [
    "## TrajGRU model - 2 channels\n",
    "The second model that we will use to make nowcasting forecasts is the one trained with reflectivity images and lightnings. <BR>\n",
    "Lightning data come from the LAMPINET network (operated by the Air Force meteorological service).\n",
    "\n",
    "A few preparatory steps are required to use this model:"
   ]
  },
  {
   "cell_type": "markdown",
   "id": "d876fff0",
   "metadata": {
    "id": "d876fff0"
   },
   "source": [
    "1. We define the mask of the reflectivity data used. We need this because the lightning data covers the whole of Italy, whereas we only need to select those on the region of interest."
   ]
  },
  {
   "cell_type": "code",
   "execution_count": null,
   "id": "fef26b95",
   "metadata": {
    "colab": {
     "base_uri": "https://localhost:8080/",
     "height": 287
    },
    "executionInfo": {
     "elapsed": 368,
     "status": "ok",
     "timestamp": 1679496901748,
     "user": {
      "displayName": "Gabriele Franch",
      "userId": "15508114924687313556"
     },
     "user_tz": -60
    },
    "id": "fef26b95",
    "outputId": "9208fc13-c167-470e-a6d7-01b21541ae57"
   },
   "outputs": [],
   "source": [
    "# Merge all input frame masks to obtain the final mask\n",
    "sequence_mask = input_arr.mask.squeeze().sum(axis=0).astype(bool) \n",
    "plt.imshow(sequence_mask, origin='lower')"
   ]
  },
  {
   "cell_type": "markdown",
   "id": "2886701e",
   "metadata": {
    "id": "2886701e"
   },
   "source": [
    "2. To extract the lightning data, which have a frequency per second and are stored in a zipped tar file, we need to have the sequence of the dates of the observations."
   ]
  },
  {
   "cell_type": "code",
   "execution_count": null,
   "id": "36082bb1",
   "metadata": {
    "colab": {
     "base_uri": "https://localhost:8080/"
    },
    "executionInfo": {
     "elapsed": 9,
     "status": "ok",
     "timestamp": 1679496903948,
     "user": {
      "displayName": "Gabriele Franch",
      "userId": "15508114924687313556"
     },
     "user_tz": -60
    },
    "id": "36082bb1",
    "outputId": "0d96fc20-3747-4c8f-fcf5-44321b824748"
   },
   "outputs": [],
   "source": [
    "datetimes = []\n",
    "for i in range(0, 25, 5):\n",
    "    datetimes.append(start_datetime + i)\n",
    "print(datetimes)"
   ]
  },
  {
   "cell_type": "markdown",
   "id": "164e117d",
   "metadata": {
    "id": "164e117d"
   },
   "source": [
    "3. The original lightning data must be re-gridded on the radar reflectivity grid and counted. To do this, it is necessary to have all the characteristics of the observed radar data (geographical extension, i.e. max/min latitudes and longitudes) and the horizontal resolution."
   ]
  },
  {
   "cell_type": "code",
   "execution_count": null,
   "id": "e4e4a3a1",
   "metadata": {
    "executionInfo": {
     "elapsed": 5,
     "status": "ok",
     "timestamp": 1679496904266,
     "user": {
      "displayName": "Gabriele Franch",
      "userId": "15508114924687313556"
     },
     "user_tz": -60
    },
    "id": "e4e4a3a1"
   },
   "outputs": [],
   "source": [
    "# Read geographical extension from radar observation dataset (we consider only the first file, \n",
    "# the covered domain is always the same)\n",
    "geo_dim = netCDF4.Dataset('file', memory=gzip.open(f'refl_example_data/COMP_{start_datetime}.nc.gz').read())['geo_dim'][:]\n",
    "# Read the horizontal resolution (in degrees)\n",
    "mesh_dim = netCDF4.Dataset('file', memory=gzip.open(f'refl_example_data/COMP_{start_datetime}.nc.gz').read())['mesh_dim'][:]"
   ]
  },
  {
   "cell_type": "markdown",
   "id": "295726a1",
   "metadata": {
    "id": "295726a1"
   },
   "source": [
    "4. Read lightning data from file. The data of an entire day are saved in a zipped tar file. From this file we only need to extract the data for the dates defined in the variable **datetimes**.\n",
    "\n",
    "The data inside the file have this format (date, time, lat, lon, intensity, lightning type (cloud to ground/cloud to cloud) : <BR>\n",
    "<span style=\"font-family:Courier\">\n",
    "2022-05-28 17:55:05  42.714   13.786    +8.0 kA  G<BR>\n",
    "2022-05-28 17:55:06  40.424   12.955   +16.2 kA  C<BR>\n",
    "2022-05-28 17:55:06  40.434   12.952   +16.6 kA  C<BR>\n",
    "</span>"
   ]
  },
  {
   "cell_type": "code",
   "execution_count": null,
   "id": "bc7db38c",
   "metadata": {
    "colab": {
     "base_uri": "https://localhost:8080/"
    },
    "executionInfo": {
     "elapsed": 1703,
     "status": "ok",
     "timestamp": 1679496908246,
     "user": {
      "displayName": "Gabriele Franch",
      "userId": "15508114924687313556"
     },
     "user_tz": -60
    },
    "id": "bc7db38c",
    "outputId": "bb766a38-17f7-4566-8e11-a37232f90e0e"
   },
   "outputs": [],
   "source": [
    "# To read the files, import the functions in the module read_strikes.py\n",
    "from read_strikes import *\n",
    "\n",
    "# The file name has the sequent format:\n",
    "fmt_fname = 'CNMC_LAM_%Y%m%d%H%M_ITALIA_SF@@@@@@_@@@@@@@@@@@@_@@@_005_@@@@.TXT'\n",
    "\n",
    "# The output array when reading lightning strikes must have the same form as input_arr\n",
    "nparr = np.zeros(input_arr.shape, dtype=int)\n",
    "\n",
    "# Open the zipped tar file containing all data\n",
    "tar = tarfile.open('strikes_example_data/LAMPI_{}_ITALIA.tar.gz'.format(datetime.strptime(str(datetimes[0]),'%Y%m%d%H%M').strftime('%Y%m%d')))\n",
    "\n",
    "frame_count = 0\n",
    "for m in tar.getmembers():\n",
    "    \n",
    "    # Extract date/time from file names\n",
    "    tm = datetime.strptime( os.path.basename(m.name), fmt_fname ).strftime('%Y%m%d%H%M')\n",
    "\n",
    "    # If there is a coincidence of dates/times of the lightning file \n",
    "    # with the strings of the variable datetimes, then we extract the data\n",
    "    if tm in str(datetimes):\n",
    "        \n",
    "        extr = tar.extractfile(m)\n",
    "        rows_cols = []\n",
    "        for line in extr.readlines():\n",
    "            line = line.decode(\"utf-8\")\n",
    "            # Read line by line\n",
    "            readline = read_line(line, geo_dim, mesh_dim)\n",
    "            if(readline is not None):\n",
    "                rows_cols.append(read_line(line, geo_dim, mesh_dim))\n",
    "\n",
    "            if(len(rows_cols)>0):\n",
    "                # Count lightnings\n",
    "                counted = Counter(rows_cols)\n",
    "                rows, cols = zip(*counted.keys())\n",
    "                values = list(counted.values())\n",
    "                nparr[ frame_count, rows, cols ] = values\n",
    "        # For each time step you can see how many lightnings as been recorded\n",
    "        print( datetime.strptime(str(datetimes[frame_count]),'%Y%m%d%H%M').strftime('%Y-%m-%d %H:%M'),\n",
    "               \"Maximum number of lightnings\", nparr.max() )\n",
    "        frame_count +=1"
   ]
  },
  {
   "cell_type": "markdown",
   "id": "f89bb7dd",
   "metadata": {
    "id": "f89bb7dd"
   },
   "source": [
    "5. It is necessary to concatenate the two inputs array (reflectivity and lightning counts), because the model expects an array of dimensions (5, 2, 290, 373)."
   ]
  },
  {
   "cell_type": "code",
   "execution_count": null,
   "id": "69f4020e",
   "metadata": {
    "colab": {
     "base_uri": "https://localhost:8080/"
    },
    "executionInfo": {
     "elapsed": 4,
     "status": "ok",
     "timestamp": 1679496911382,
     "user": {
      "displayName": "Gabriele Franch",
      "userId": "15508114924687313556"
     },
     "user_tz": -60
    },
    "id": "69f4020e",
    "outputId": "e6b0cf69-ca52-4ca0-d24e-e9b293c7a8ca"
   },
   "outputs": [],
   "source": [
    "a1 = input_arr[ :, np.newaxis , :, : ]\n",
    "a2 = nparr[ :, np.newaxis, :, : ]\n",
    "#print(a1.shape, a2.shape)\n",
    "input_ch2 = np.concatenate(( a1, a2 ), axis = 1)\n",
    "print(\"Shape of the array in input to the second model\", input_ch2.shape)"
   ]
  },
  {
   "cell_type": "code",
   "execution_count": null,
   "id": "c4d7f8a8",
   "metadata": {
    "executionInfo": {
     "elapsed": 1734,
     "status": "ok",
     "timestamp": 1679496913355,
     "user": {
      "displayName": "Gabriele Franch",
      "userId": "15508114924687313556"
     },
     "user_tz": -60
    },
    "id": "c4d7f8a8"
   },
   "outputs": [],
   "source": [
    "# Upload the first nowcasting model. \n",
    "# The training was performed using sequences of radar reflectivity images as input.\n",
    "model_2ch = TorchModel.from_saved_model('trained_models/trajgru_torch_2ch_strikes_393000.pth')"
   ]
  },
  {
   "cell_type": "markdown",
   "id": "96841685",
   "metadata": {
    "id": "96841685"
   },
   "source": [
    "We can see that, as input, the model expects two types of data ( while the output data is always only one, the reflectivity). We display the model configuration and among the various parameters we see that **in_channels=2**"
   ]
  },
  {
   "cell_type": "code",
   "execution_count": null,
   "id": "e43be04f",
   "metadata": {
    "colab": {
     "base_uri": "https://localhost:8080/"
    },
    "executionInfo": {
     "elapsed": 6,
     "status": "ok",
     "timestamp": 1679496916222,
     "user": {
      "displayName": "Gabriele Franch",
      "userId": "15508114924687313556"
     },
     "user_tz": -60
    },
    "id": "e43be04f",
    "outputId": "b82a3005-4689-4bfe-dadb-65204f8c15ae",
    "scrolled": true
   },
   "outputs": [],
   "source": [
    "# If we compare this configuration with the previous one, it is possible to see that now we have 2 in_channels. \n",
    "# That is: reflectivity and lightning.\n",
    "model_2ch_cfg = model_2ch.cfg\n",
    "print(model_2ch_cfg)"
   ]
  },
  {
   "cell_type": "code",
   "execution_count": null,
   "id": "1826eaaf",
   "metadata": {
    "executionInfo": {
     "elapsed": 7182,
     "status": "ok",
     "timestamp": 1679496923401,
     "user": {
      "displayName": "Gabriele Franch",
      "userId": "15508114924687313556"
     },
     "user_tz": -60
    },
    "id": "1826eaaf"
   },
   "outputs": [],
   "source": [
    "# Make the forecast.\n",
    "# *******************************************************************************************\n",
    "# HERE YOU CAN CHANGE THE NUMBER OF FORECASTS adding out_len to the function parameters.\n",
    "# For example:\n",
    "# pred_1ch = model_1ch.predict_arpae_composite(input_arr, out_len=10)\n",
    "# *******************************************************************************************\n",
    "pred_2ch = model_2ch.predict_arpae_composite_nch(input_ch2)"
   ]
  },
  {
   "cell_type": "code",
   "execution_count": null,
   "id": "e7894466",
   "metadata": {
    "colab": {
     "base_uri": "https://localhost:8080/",
     "height": 83
    },
    "executionInfo": {
     "elapsed": 2196,
     "status": "ok",
     "timestamp": 1679496925592,
     "user": {
      "displayName": "Gabriele Franch",
      "userId": "15508114924687313556"
     },
     "user_tz": -60
    },
    "id": "e7894466",
    "outputId": "fe61728e-0f18-4377-8a44-3bff9c34ca58"
   },
   "outputs": [],
   "source": [
    "fig, ax = plt.subplots(figsize=(30, 3))\n",
    "plt.imshow(np.concatenate(pred_1ch.squeeze(),axis=1), origin='lower')"
   ]
  },
  {
   "cell_type": "markdown",
   "id": "e681bce4",
   "metadata": {
    "id": "e681bce4"
   },
   "source": [
    "As before, to really understand what the forecast field looks like, however, it is necessary to look at it in detail by viewing the individual time steps."
   ]
  },
  {
   "cell_type": "code",
   "execution_count": null,
   "id": "c5a4faa3",
   "metadata": {
    "colab": {
     "base_uri": "https://localhost:8080/",
     "height": 366
    },
    "executionInfo": {
     "elapsed": 2527,
     "status": "ok",
     "timestamp": 1679496930362,
     "user": {
      "displayName": "Gabriele Franch",
      "userId": "15508114924687313556"
     },
     "user_tz": -60
    },
    "id": "c5a4faa3",
    "outputId": "4bba79ef-bd06-4883-a2c8-a4aef70fe6d2"
   },
   "outputs": [],
   "source": [
    "# Preparatory steps to visualisation. The image will be displayed for convenience with a discrete colour scale.\n",
    "# Definition of reflectivity levels to be displayed.\n",
    "levels = [ -20., 0., 10., 15., 20., 25., 30., 35., 40., 50., 60. ]\n",
    "# Colors selection\n",
    "colors = ['#636363', '#d9d9d9', '#3288bd', '#66c2a5', '#abdda4',\n",
    "          '#e6f598', '#fee08b', '#fdae61', '#f46d43', '#d53e4f' ]\n",
    "cmap, norm = from_levels_and_colors( levels, colors, extend='neither' )\n",
    "\n",
    "fig = plt.figure( figsize = (14, 12) )\n",
    "font = { 'size': 14 }\n",
    "plt.rc( 'font', **font )\n",
    "\n",
    "# Definition of projection \n",
    "ax1 = fig.add_subplot(121, projection=ccrs.PlateCarree() )\n",
    "ax2 = fig.add_subplot(122, projection=ccrs.PlateCarree() )\n",
    "# *******************************************************************************************\n",
    "# HERE YOU CAN CHANGE THE MAP EXTENSION and enhance small-scale structures.\n",
    "# If you want to see the whole domain you can comment the ax.set_extent function.\n",
    "# *******************************************************************************************\n",
    "#ax.set_extent([9.,11.,44.,46.])\n",
    "\n",
    "# Forecasted reflectivity data plot\n",
    "pcm = ax1.pcolormesh(lon, lat, pred_2ch[int(fcst_time/5-1)], cmap=cmap, norm=norm )\n",
    "\n",
    "# Read and plot the corresponding observation\n",
    "obs = netCDF4.Dataset('file', memory=gzip.open(f'refl_example_data/COMP_{start_datetime + 5 + int(fcst_time/5-1)*5}.nc.gz').read())['Z_60'][:]\n",
    "pcm = ax2.pcolormesh(lon, lat, obs[0], cmap=cmap, norm=norm )\n",
    "\n",
    "# Colorbar\n",
    "cax, kw = matplotlib.colorbar.make_axes( ax1, location='right', pad=0.02, shrink=0.5 )\n",
    "cbar = fig.colorbar( pcm, cax=cax, extend='max', ticks=levels, **kw )\n",
    "cbar.ax.set_ylabel( 'dBZ' )\n",
    "\n",
    "cax, kw = matplotlib.colorbar.make_axes( ax2, location='right', pad=0.02, shrink=0.5 )\n",
    "cbar = fig.colorbar( pcm, cax=cax, extend='max', ticks=levels, **kw )\n",
    "cbar.ax.set_ylabel( 'dBZ' )\n",
    "\n",
    "# Add coastlines and other geographical features for both images\n",
    "ax1.coastlines( resolution='10m' ) \n",
    "ax1.add_feature( cfeature.NaturalEarthFeature(category='cultural', \n",
    "                                             name='admin_0_boundary_lines_land', scale='10m' ),\n",
    "                   edgecolor='k', facecolor='none' )\n",
    "\n",
    "ax1.add_feature( cartopy.feature.LAKES.with_scale('10m'), edgecolor='k', facecolor='none')\n",
    "\n",
    "ax2.coastlines( resolution='10m' ) \n",
    "ax2.add_feature( cfeature.NaturalEarthFeature(category='cultural', \n",
    "                                             name='admin_0_boundary_lines_land', scale='10m' ),\n",
    "                   edgecolor='k', facecolor='none' )\n",
    "ax2.add_feature( cartopy.feature.LAKES.with_scale('10m'), edgecolor='k', facecolor='none')\n",
    "\n",
    "# Grids\n",
    "gl = ax1.gridlines( draw_labels=False, linestyle='--' )\n",
    "gl = ax2.gridlines( draw_labels=False, linestyle='--' )"
   ]
  },
  {
   "cell_type": "markdown",
   "id": "568457e7",
   "metadata": {
    "id": "568457e7"
   },
   "source": [
    "Compare the results obtained from the two models. \n",
    "\n",
    "For the convective case, in particular, using the two-channel model shows a change in the reflectivity forecast with predicted values lower than in the one-channel case, but closer to the observation."
   ]
  }
 ],
 "metadata": {
  "colab": {
   "provenance": []
  },
  "gpuClass": "standard",
  "kernelspec": {
   "display_name": "Python 3 (ipykernel)",
   "language": "python",
   "name": "python3"
  },
  "language_info": {
   "codemirror_mode": {
    "name": "ipython",
    "version": 3
   },
   "file_extension": ".py",
   "mimetype": "text/x-python",
   "name": "python",
   "nbconvert_exporter": "python",
   "pygments_lexer": "ipython3",
   "version": "3.8.10"
  }
 },
 "nbformat": 4,
 "nbformat_minor": 5
}
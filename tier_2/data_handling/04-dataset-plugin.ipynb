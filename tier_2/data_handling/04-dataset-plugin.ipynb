{
 "cells": [
  {
   "cell_type": "markdown",
   "metadata": {},
   "source": [
    "# Sharing code along with the data using CliMetLab\n"
   ]
  },
  {
   "cell_type": "markdown",
   "metadata": {},
   "source": [
    "**Objective**:\n",
    "\n",
    "The objective of this notebook is to illustrate how to create a climetlab dataset plugin for a dataset form these two files: `forecast_error.csv` and `soil_temperature.csv` (These files are located next to this notebook).\n",
    "\n",
    "There are three main steps:\n",
    "\n",
    "- Step 1: Create the plugin boilerplate structure using climetlab-plugin-tools.\n",
    "\n",
    "- Step 2: Add your code to the plugin.\n",
    "\n",
    "- Step 3: Push to github and publish to pypi (This is not covered here. See the general purpose tutorial about github and pipy)"
   ]
  },
  {
   "cell_type": "markdown",
   "metadata": {},
   "source": [
    "## How to run this exercise\n",
    "\n",
    "This exercise is in the form of a [Jupyter notebook](https://jupyter.org/). It can be \"run\" in a number of free cloud based environments (see two options below). These require no installation. When you click on one of the links below ([`Open in Colab`](https://colab.research.google.com/github/ecmwf-projects/mooc-machine-learning-weather-climate/blob/main/tier_2/data_handling/04-dataset-plugin.ipynb) or [`Launch in Deepnote`](https://deepnote.com/launch?url=https://github.com/ecmwf-projects/mooc-machine-learning-weather-climate/blob/main/tier_2/data_handling/04-dataset-plugin.ipynb)) you will be prompted to create a free account, after which you will see the same page you see here. You can run each block of code by selecting shift+control repeatedly, or by selecting the \"play\" icon. \n",
    "\n",
    "Advanced users may wish to run this exercise on their own computers by first installing [Python](https://www.python.org/downloads/), [Jupyter](https://jupyter.org/install) and [CliMetLab](https://climetlab.readthedocs.io/en/latest/installing.html)."
   ]
  },
  {
   "cell_type": "markdown",
   "metadata": {},
   "source": [
    "<style>\n",
    "td, th {\n",
    "   border: 1px solid white;\n",
    "   border-collapse: collapse;\n",
    "}\n",
    "</style>\n",
    "<table align=\"left\">\n",
    "  <tr>\n",
    "    <th>Run the tutorial via free cloud platforms: </th>\n",
    "    <th><a href=\"https://colab.research.google.com/github/ecmwf-projects/mooc-machine-learning-weather-climate/blob/main/tier_2/data_handling/04-dataset-plugin.ipynb\">\n",
    "        <img src = \"https://colab.research.google.com/assets/colab-badge.svg\" alt = \"Colab\"></th>\n",
    "    <th><a href=\"https://deepnote.com/launch?url=https://github.com/ecmwf-projects/mooc-machine-learning-weather-climate/blob/main/tier_2/data_handling/04-dataset-plugin.ipynb\">\n",
    "        <img src = \"https://deepnote.com/buttons/launch-in-deepnote-small.svg\" alt = \"Kaggle\"></th>\n",
    "  </tr>\n",
    "</table>"
   ]
  },
  {
   "cell_type": "markdown",
   "metadata": {},
   "source": [
    "## Let's begin the exercise..."
   ]
  },
  {
   "cell_type": "code",
   "execution_count": 2,
   "metadata": {
    "tags": []
   },
   "outputs": [],
   "source": [
    "#pip install climetlab --quiet\n",
    "# --> already done"
   ]
  },
  {
   "cell_type": "code",
   "execution_count": 3,
   "metadata": {
    "tags": []
   },
   "outputs": [
    {
     "name": "stderr",
     "output_type": "stream",
     "text": [
      "Der Befehl \"ls\" ist entweder falsch geschrieben oder\n",
      "konnte nicht gefunden werden.\n"
     ]
    }
   ],
   "source": [
    "!ls *.csv"
   ]
  },
  {
   "cell_type": "markdown",
   "metadata": {},
   "source": [
    "#### Step 1: Create the plugin boilerplate structure using climetlab-plugin-tools."
   ]
  },
  {
   "cell_type": "code",
   "execution_count": 8,
   "metadata": {},
   "outputs": [
    {
     "name": "stdout",
     "output_type": "stream",
     "text": [
      "\n",
      "Documented commands (type help <topic>):\n",
      "========================================\n",
      "availability  decache       index_directory  quit          \n",
      "benchmark     export_cache  index_url        settings      \n",
      "cache         grib_info     index_urls       settings_reset\n",
      "check         help          plugins          versions      \n",
      "\n",
      "Undocumented commands:\n",
      "======================\n",
      "df  dump_index  libraries  plugin_create_dataset  plugin_create_source\n",
      "\n"
     ]
    }
   ],
   "source": [
    "!climetlab help"
   ]
  },
  {
   "cell_type": "markdown",
   "metadata": {},
   "source": [
    "Climetlab plugin tools are packaged separately, we need to install them as a plugin in order to have the shell command `climetlab create_plugin_dataset` available."
   ]
  },
  {
   "cell_type": "code",
   "execution_count": 9,
   "metadata": {},
   "outputs": [],
   "source": [
    "!pip install climetlab-plugin-tools --quiet"
   ]
  },
  {
   "cell_type": "code",
   "execution_count": 10,
   "metadata": {},
   "outputs": [
    {
     "name": "stdout",
     "output_type": "stream",
     "text": [
      "\n",
      "Documented commands (type help <topic>):\n",
      "========================================\n",
      "availability  decache       index_directory  quit          \n",
      "benchmark     export_cache  index_url        settings      \n",
      "cache         grib_info     index_urls       settings_reset\n",
      "check         help          plugins          versions      \n",
      "\n",
      "Undocumented commands:\n",
      "======================\n",
      "df  dump_index  libraries  plugin_create_dataset  plugin_create_source\n",
      "\n"
     ]
    }
   ],
   "source": [
    "!climetlab help"
   ]
  },
  {
   "cell_type": "markdown",
   "metadata": {
    "vscode": {
     "languageId": "shellscript"
    }
   },
   "source": [
    "Run from a shell terminal:\n",
    "\n",
    "$ climetlab\n",
    "\n",
    "(climetlab) plugin_plugin_dataset\n",
    "\n",
    "Answer questions...\n",
    "\n",
    "A new folder has now been created with all the code required to have a proper pip python package and have code included in a climetlab dataset plugin."
   ]
  },
  {
   "cell_type": "markdown",
   "metadata": {},
   "source": [
    "#### Step 2: Add your code to the plugin.\n",
    "\n",
    "The previous created boilerplate code, let us now write some actual code to link it to the data.\n",
    "\n",
    "Here is the file you want to edit."
   ]
  },
  {
   "cell_type": "code",
   "execution_count": 11,
   "metadata": {},
   "outputs": [
    {
     "name": "stdout",
     "output_type": "stream",
     "text": [
      "climetlab-my-plugin-solution/climetlab_my_plugin/__init__.py\n",
      "climetlab-my-plugin-solution/climetlab_my_plugin/main.py\n"
     ]
    }
   ],
   "source": [
    "!ls climetlab-*/climetlab_*/*.py"
   ]
  },
  {
   "cell_type": "code",
   "execution_count": 12,
   "metadata": {},
   "outputs": [],
   "source": [
    "from climetlab.decorators import normalize\n",
    "\n",
    "@normalize(\"parameter\", [\"tp\", \"t2m\"])\n",
    "def __init__(self, year, parameter):\n",
    "    request = dict(parameter=parameter, url=URL, year=year)\n",
    "    self.source = cml.load_source(\"url-pattern\", PATTERN, request)"
   ]
  },
  {
   "cell_type": "markdown",
   "metadata": {},
   "source": [
    "Let us edit this part and change it to:"
   ]
  },
  {
   "cell_type": "code",
   "execution_count": 13,
   "metadata": {},
   "outputs": [],
   "source": [
    "def __init__(self, parameter):\n",
    "    self.source = cml.load_source(\"file\", parameter + '.csv')\n",
    "    # For a real plugin use \"url\" or \"url-pattern\" sources:\n",
    "    # self.source = cml.load_source(\"url\", URL_PREFIX + parameter + '.csv')\n",
    "    # self.source = cml.load_source(\"url-pattern\", PATTERN, {\"parameter\": parameter} )"
   ]
  },
  {
   "cell_type": "markdown",
   "metadata": {},
   "source": [
    "The `pip` plugin package need now to be installed. \n",
    "\n",
    "As an example a plugin is available next to this notebook in `./climetlab-my-plugin-solution`. Adapt the name to use the plugin name you defined."
   ]
  },
  {
   "cell_type": "code",
   "execution_count": 8,
   "metadata": {
    "tags": []
   },
   "outputs": [
    {
     "name": "stderr",
     "output_type": "stream",
     "text": [
      "ERROR: Invalid requirement: '#'\n",
      "WARNING: You are using pip version 21.1.1; however, version 23.0.1 is available.\n",
      "You should consider upgrading via the 'c:\\users\\frei_p\\onedrive - alpiq.com\\ecmwf_mooc_ml\\github_code\\mooc-machine-learning-weather-climate\\venv\\scripts\\python.exe -m pip install --upgrade pip' command.\n"
     ]
    }
   ],
   "source": [
    "# !pip install -e ./climetlab-my-plugin        # installing your own plugin\n",
    "# !pip install -e ./climetlab-your-plugin-name # installing your own plugin\n",
    "\n",
    "!pip install -e ./climetlab-my-plugin-solution # installing the solution plugin"
   ]
  },
  {
   "cell_type": "markdown",
   "metadata": {},
   "source": [
    "\n",
    "Note: using -e with pip\n",
    "Warning for Jupyter users: you may need to restart your python notebook.\n"
   ]
  },
  {
   "cell_type": "markdown",
   "metadata": {},
   "source": [
    "Let us test this. From a notebook or from ipython or from a python script:"
   ]
  },
  {
   "cell_type": "code",
   "execution_count": null,
   "metadata": {},
   "outputs": [
    {
     "name": "stderr",
     "output_type": "stream",
     "text": [
      "Cannot find dataset 'neiv-nova-test-plugin', did you mean 'era5-temperature'?\n"
     ]
    },
    {
     "ename": "NameError",
     "evalue": "Cannot find dataset 'neiv-nova-test-plugin' (values are: era5-precipitations, era5-single-levels, era5-temperature, example-dataset, high-low, hurricane-database, meteonet-radar-rainfall, meteonet-samples-ground-stations, meteonet-samples-masks, meteonet-samples-radar, meteonet-samples-weather-models, sample-bufr-data, sample-grib-data, weather-bench)",
     "output_type": "error",
     "traceback": [
      "\u001b[1;31m---------------------------------------------------------------------------\u001b[0m",
      "\u001b[1;31mNameError\u001b[0m                                 Traceback (most recent call last)",
      "Cell \u001b[1;32mIn[4], line 2\u001b[0m\n\u001b[0;32m      1\u001b[0m \u001b[38;5;28;01mimport\u001b[39;00m \u001b[38;5;21;01mclimetlab\u001b[39;00m \u001b[38;5;28;01mas\u001b[39;00m \u001b[38;5;21;01mcml\u001b[39;00m \n\u001b[1;32m----> 2\u001b[0m ds \u001b[38;5;241m=\u001b[39m \u001b[43mcml\u001b[49m\u001b[38;5;241;43m.\u001b[39;49m\u001b[43mload_dataset\u001b[49m\u001b[43m(\u001b[49m\u001b[38;5;124;43m'\u001b[39;49m\u001b[38;5;124;43mneiv-nova-test-plugin\u001b[39;49m\u001b[38;5;124;43m'\u001b[39;49m\u001b[43m,\u001b[49m\u001b[43m \u001b[49m\u001b[43mparameter\u001b[49m\u001b[43m \u001b[49m\u001b[38;5;241;43m=\u001b[39;49m\u001b[43m \u001b[49m\u001b[38;5;124;43m'\u001b[39;49m\u001b[38;5;124;43msoil_temperature\u001b[39;49m\u001b[38;5;124;43m'\u001b[39;49m\u001b[43m)\u001b[49m\n\u001b[0;32m      3\u001b[0m ds\u001b[38;5;241m.\u001b[39mto_pandas()\n",
      "File \u001b[1;32mc:\\users\\frei_p\\onedrive - alpiq.com\\ecmwf_mooc_ml\\github_code\\mooc-machine-learning-weather-climate\\venv\\lib\\site-packages\\climetlab\\datasets\\__init__.py:262\u001b[0m, in \u001b[0;36mload_dataset\u001b[1;34m(name, *args, **kwargs)\u001b[0m\n\u001b[0;32m    249\u001b[0m \u001b[38;5;28;01mdef\u001b[39;00m \u001b[38;5;21mload_dataset\u001b[39m(name: \u001b[38;5;28mstr\u001b[39m, \u001b[38;5;241m*\u001b[39margs, \u001b[38;5;241m*\u001b[39m\u001b[38;5;241m*\u001b[39mkwargs) \u001b[38;5;241m-\u001b[39m\u001b[38;5;241m>\u001b[39m Dataset:\n\u001b[0;32m    250\u001b[0m \u001b[38;5;250m    \u001b[39m\u001b[38;5;124;03m\"\"\"Loads a dataset.\u001b[39;00m\n\u001b[0;32m    251\u001b[0m \n\u001b[0;32m    252\u001b[0m \u001b[38;5;124;03m    Parameters\u001b[39;00m\n\u001b[1;32m   (...)\u001b[0m\n\u001b[0;32m    260\u001b[0m \u001b[38;5;124;03m        The loaded dataset.\u001b[39;00m\n\u001b[0;32m    261\u001b[0m \u001b[38;5;124;03m    \"\"\"\u001b[39;00m\n\u001b[1;32m--> 262\u001b[0m     klass \u001b[38;5;241m=\u001b[39m \u001b[43mget_dataset\u001b[49m\u001b[38;5;241;43m.\u001b[39;49m\u001b[43mlookup\u001b[49m\u001b[43m(\u001b[49m\u001b[43mname\u001b[49m\u001b[43m)\u001b[49m\n\u001b[0;32m    264\u001b[0m     \u001b[38;5;28;01mif\u001b[39;00m name \u001b[38;5;129;01mnot\u001b[39;00m \u001b[38;5;129;01min\u001b[39;00m TERMS_OF_USE_SHOWN:\n\u001b[0;32m    265\u001b[0m         \u001b[38;5;28;01mif\u001b[39;00m klass\u001b[38;5;241m.\u001b[39mterms_of_use \u001b[38;5;129;01mis\u001b[39;00m \u001b[38;5;129;01mnot\u001b[39;00m \u001b[38;5;28;01mNone\u001b[39;00m:\n",
      "File \u001b[1;32mc:\\users\\frei_p\\onedrive - alpiq.com\\ecmwf_mooc_ml\\github_code\\mooc-machine-learning-weather-climate\\venv\\lib\\site-packages\\climetlab\\datasets\\__init__.py:230\u001b[0m, in \u001b[0;36mDatasetMaker.lookup\u001b[1;34m(self, name)\u001b[0m\n\u001b[0;32m    228\u001b[0m \u001b[38;5;28;01mdef\u001b[39;00m \u001b[38;5;21mlookup\u001b[39m(\u001b[38;5;28mself\u001b[39m, name):\n\u001b[0;32m    229\u001b[0m     loader \u001b[38;5;241m=\u001b[39m DatasetLoader()\n\u001b[1;32m--> 230\u001b[0m     klass \u001b[38;5;241m=\u001b[39m \u001b[43mfind_plugin\u001b[49m\u001b[43m(\u001b[49m\u001b[43mos\u001b[49m\u001b[38;5;241;43m.\u001b[39;49m\u001b[43mpath\u001b[49m\u001b[38;5;241;43m.\u001b[39;49m\u001b[43mdirname\u001b[49m\u001b[43m(\u001b[49m\u001b[38;5;18;43m__file__\u001b[39;49m\u001b[43m)\u001b[49m\u001b[43m,\u001b[49m\u001b[43m \u001b[49m\u001b[43mname\u001b[49m\u001b[43m,\u001b[49m\u001b[43m \u001b[49m\u001b[43mloader\u001b[49m\u001b[43m)\u001b[49m\n\u001b[0;32m    232\u001b[0m     \u001b[38;5;28;01mreturn\u001b[39;00m klass\n",
      "File \u001b[1;32mc:\\users\\frei_p\\onedrive - alpiq.com\\ecmwf_mooc_ml\\github_code\\mooc-machine-learning-weather-climate\\venv\\lib\\site-packages\\climetlab\\core\\plugins.py:138\u001b[0m, in \u001b[0;36mfind_plugin\u001b[1;34m(directories, name, loader, refreshed)\u001b[0m\n\u001b[0;32m    136\u001b[0m     LOG\u001b[38;5;241m.\u001b[39mdebug(\u001b[38;5;124m\"\u001b[39m\u001b[38;5;124mCannot find \u001b[39m\u001b[38;5;132;01m{loader.kind}\u001b[39;00m\u001b[38;5;124m \u001b[39m\u001b[38;5;124m'\u001b[39m\u001b[38;5;124mname\u001b[39m\u001b[38;5;124m'\u001b[39m\u001b[38;5;124m. Refreshing plugin list.\u001b[39m\u001b[38;5;124m\"\u001b[39m)\n\u001b[0;32m    137\u001b[0m     refresh(loader\u001b[38;5;241m.\u001b[39mkind)\n\u001b[1;32m--> 138\u001b[0m     \u001b[38;5;28;01mreturn\u001b[39;00m \u001b[43mfind_plugin\u001b[49m\u001b[43m(\u001b[49m\u001b[43mdirectories\u001b[49m\u001b[43m,\u001b[49m\u001b[43m \u001b[49m\u001b[43mname\u001b[49m\u001b[43m,\u001b[49m\u001b[43m \u001b[49m\u001b[43mloader\u001b[49m\u001b[43m,\u001b[49m\u001b[43m \u001b[49m\u001b[43mrefreshed\u001b[49m\u001b[38;5;241;43m=\u001b[39;49m\u001b[38;5;28;43;01mTrue\u001b[39;49;00m\u001b[43m)\u001b[49m\n\u001b[0;32m    140\u001b[0m module \u001b[38;5;241m=\u001b[39m loader\u001b[38;5;241m.\u001b[39mload_remote(name)\n\u001b[0;32m    141\u001b[0m \u001b[38;5;28;01mif\u001b[39;00m module \u001b[38;5;129;01mis\u001b[39;00m \u001b[38;5;129;01mnot\u001b[39;00m \u001b[38;5;28;01mNone\u001b[39;00m:\n",
      "File \u001b[1;32mc:\\users\\frei_p\\onedrive - alpiq.com\\ecmwf_mooc_ml\\github_code\\mooc-machine-learning-weather-climate\\venv\\lib\\site-packages\\climetlab\\core\\plugins.py:156\u001b[0m, in \u001b[0;36mfind_plugin\u001b[1;34m(directories, name, loader, refreshed)\u001b[0m\n\u001b[0;32m    147\u001b[0m     LOG\u001b[38;5;241m.\u001b[39mwarning(\n\u001b[0;32m    148\u001b[0m         \u001b[38;5;124m\"\u001b[39m\u001b[38;5;124mCannot find \u001b[39m\u001b[38;5;132;01m%s\u001b[39;00m\u001b[38;5;124m \u001b[39m\u001b[38;5;124m'\u001b[39m\u001b[38;5;132;01m%s\u001b[39;00m\u001b[38;5;124m'\u001b[39m\u001b[38;5;124m, did you mean \u001b[39m\u001b[38;5;124m'\u001b[39m\u001b[38;5;132;01m%s\u001b[39;00m\u001b[38;5;124m'\u001b[39m\u001b[38;5;124m?\u001b[39m\u001b[38;5;124m\"\u001b[39m,\n\u001b[0;32m    149\u001b[0m         loader\u001b[38;5;241m.\u001b[39mkind,\n\u001b[0;32m    150\u001b[0m         name,\n\u001b[0;32m    151\u001b[0m         correction,\n\u001b[0;32m    152\u001b[0m     )\n\u001b[0;32m    154\u001b[0m candidates \u001b[38;5;241m=\u001b[39m \u001b[38;5;124m\"\u001b[39m\u001b[38;5;124m, \u001b[39m\u001b[38;5;124m\"\u001b[39m\u001b[38;5;241m.\u001b[39mjoin(\u001b[38;5;28msorted\u001b[39m(c \u001b[38;5;28;01mfor\u001b[39;00m c \u001b[38;5;129;01min\u001b[39;00m candidates \u001b[38;5;28;01mif\u001b[39;00m \u001b[38;5;124m\"\u001b[39m\u001b[38;5;124m-\u001b[39m\u001b[38;5;124m\"\u001b[39m \u001b[38;5;129;01min\u001b[39;00m c))\n\u001b[1;32m--> 156\u001b[0m \u001b[38;5;28;01mraise\u001b[39;00m \u001b[38;5;167;01mNameError\u001b[39;00m(\u001b[38;5;124mf\u001b[39m\u001b[38;5;124m\"\u001b[39m\u001b[38;5;124mCannot find \u001b[39m\u001b[38;5;132;01m{\u001b[39;00mloader\u001b[38;5;241m.\u001b[39mkind\u001b[38;5;132;01m}\u001b[39;00m\u001b[38;5;124m \u001b[39m\u001b[38;5;124m'\u001b[39m\u001b[38;5;132;01m{\u001b[39;00mname\u001b[38;5;132;01m}\u001b[39;00m\u001b[38;5;124m'\u001b[39m\u001b[38;5;124m (values are: \u001b[39m\u001b[38;5;132;01m{\u001b[39;00mcandidates\u001b[38;5;132;01m}\u001b[39;00m\u001b[38;5;124m)\u001b[39m\u001b[38;5;124m\"\u001b[39m)\n",
      "\u001b[1;31mNameError\u001b[0m: Cannot find dataset 'neiv-nova-test-plugin' (values are: era5-precipitations, era5-single-levels, era5-temperature, example-dataset, high-low, hurricane-database, meteonet-radar-rainfall, meteonet-samples-ground-stations, meteonet-samples-masks, meteonet-samples-radar, meteonet-samples-weather-models, sample-bufr-data, sample-grib-data, weather-bench)"
     ]
    }
   ],
   "source": [
    "import climetlab as cml \n",
    "ds = cml.load_dataset('my-plugin', parameter = 'soil_temperature')\n",
    "ds.to_pandas()\n"
   ]
  },
  {
   "cell_type": "code",
   "execution_count": 16,
   "metadata": {},
   "outputs": [
    {
     "data": {
      "text/html": [
       "<div>\n",
       "<style scoped>\n",
       "    .dataframe tbody tr th:only-of-type {\n",
       "        vertical-align: middle;\n",
       "    }\n",
       "\n",
       "    .dataframe tbody tr th {\n",
       "        vertical-align: top;\n",
       "    }\n",
       "\n",
       "    .dataframe thead th {\n",
       "        text-align: right;\n",
       "    }\n",
       "</style>\n",
       "<table border=\"1\" class=\"dataframe\">\n",
       "  <thead>\n",
       "    <tr style=\"text-align: right;\">\n",
       "      <th></th>\n",
       "      <th>forecast_error</th>\n",
       "    </tr>\n",
       "  </thead>\n",
       "  <tbody>\n",
       "    <tr>\n",
       "      <th>0</th>\n",
       "      <td>0.730103</td>\n",
       "    </tr>\n",
       "    <tr>\n",
       "      <th>1</th>\n",
       "      <td>0.480103</td>\n",
       "    </tr>\n",
       "    <tr>\n",
       "      <th>2</th>\n",
       "      <td>0.690094</td>\n",
       "    </tr>\n",
       "    <tr>\n",
       "      <th>3</th>\n",
       "      <td>0.230103</td>\n",
       "    </tr>\n",
       "    <tr>\n",
       "      <th>4</th>\n",
       "      <td>-0.839905</td>\n",
       "    </tr>\n",
       "    <tr>\n",
       "      <th>...</th>\n",
       "      <td>...</td>\n",
       "    </tr>\n",
       "    <tr>\n",
       "      <th>994</th>\n",
       "      <td>-1.783630</td>\n",
       "    </tr>\n",
       "    <tr>\n",
       "      <th>995</th>\n",
       "      <td>-2.673615</td>\n",
       "    </tr>\n",
       "    <tr>\n",
       "      <th>996</th>\n",
       "      <td>-2.053650</td>\n",
       "    </tr>\n",
       "    <tr>\n",
       "      <th>997</th>\n",
       "      <td>-2.223633</td>\n",
       "    </tr>\n",
       "    <tr>\n",
       "      <th>998</th>\n",
       "      <td>-1.183624</td>\n",
       "    </tr>\n",
       "  </tbody>\n",
       "</table>\n",
       "<p>999 rows × 1 columns</p>\n",
       "</div>"
      ],
      "text/plain": [
       "     forecast_error\n",
       "0          0.730103\n",
       "1          0.480103\n",
       "2          0.690094\n",
       "3          0.230103\n",
       "4         -0.839905\n",
       "..              ...\n",
       "994       -1.783630\n",
       "995       -2.673615\n",
       "996       -2.053650\n",
       "997       -2.223633\n",
       "998       -1.183624\n",
       "\n",
       "[999 rows x 1 columns]"
      ]
     },
     "execution_count": 16,
     "metadata": {},
     "output_type": "execute_result"
    }
   ],
   "source": [
    "ds = cml.load_dataset('my-plugin', parameter = 'forecast_error')\n",
    "ds.to_pandas()"
   ]
  },
  {
   "cell_type": "markdown",
   "metadata": {},
   "source": [
    "# Improving data usability\n",
    "Data can be accessed as a panda dataframe. Can we do better to help the end-user handling the data?\n",
    "\n",
    "What about helping them fixing a typo?"
   ]
  },
  {
   "cell_type": "code",
   "execution_count": 17,
   "metadata": {},
   "outputs": [
    {
     "ename": "ValueError",
     "evalue": "Invalid value 'soiltemperature', possible values are ['soil_temperature', 'forecast_error'] (EnumSingleOrListType)",
     "output_type": "error",
     "traceback": [
      "\u001b[0;31m---------------------------------------------------------------------------\u001b[0m",
      "\u001b[0;31mValueError\u001b[0m                                Traceback (most recent call last)",
      "Cell \u001b[0;32mIn [17], line 2\u001b[0m\n\u001b[1;32m      1\u001b[0m \u001b[39mimport\u001b[39;00m \u001b[39mclimetlab\u001b[39;00m \u001b[39mas\u001b[39;00m \u001b[39mcml\u001b[39;00m\n\u001b[0;32m----> 2\u001b[0m cml\u001b[39m.\u001b[39;49mload_dataset(\u001b[39m'\u001b[39;49m\u001b[39mmy-plugin\u001b[39;49m\u001b[39m'\u001b[39;49m, parameter \u001b[39m=\u001b[39;49m \u001b[39m'\u001b[39;49m\u001b[39msoiltemperature\u001b[39;49m\u001b[39m'\u001b[39;49m)\n",
      "File \u001b[0;32m~/dev/climetlab/climetlab/datasets/__init__.py:269\u001b[0m, in \u001b[0;36mload_dataset\u001b[0;34m(name, *args, **kwargs)\u001b[0m\n\u001b[1;32m    266\u001b[0m         \u001b[39mprint\u001b[39m(klass\u001b[39m.\u001b[39mterms_of_use)\n\u001b[1;32m    267\u001b[0m     TERMS_OF_USE_SHOWN\u001b[39m.\u001b[39madd(name)\n\u001b[0;32m--> 269\u001b[0m ds \u001b[39m=\u001b[39m klass(\u001b[39m*\u001b[39;49margs, \u001b[39m*\u001b[39;49m\u001b[39m*\u001b[39;49mkwargs)\u001b[39m.\u001b[39mmutate()\n\u001b[1;32m    270\u001b[0m \u001b[39mif\u001b[39;00m \u001b[39mgetattr\u001b[39m(ds, \u001b[39m\"\u001b[39m\u001b[39mname\u001b[39m\u001b[39m\"\u001b[39m, \u001b[39mNone\u001b[39;00m) \u001b[39mis\u001b[39;00m \u001b[39mNone\u001b[39;00m:\n\u001b[1;32m    271\u001b[0m     ds\u001b[39m.\u001b[39mname \u001b[39m=\u001b[39m name\n",
      "File \u001b[0;32m~/dev/climetlab/climetlab/core/__init__.py:21\u001b[0m, in \u001b[0;36mMetaBase.__call__\u001b[0;34m(cls, *args, **kwargs)\u001b[0m\n\u001b[1;32m     19\u001b[0m obj \u001b[39m=\u001b[39m \u001b[39mcls\u001b[39m\u001b[39m.\u001b[39m\u001b[39m__new__\u001b[39m(\u001b[39mcls\u001b[39m, \u001b[39m*\u001b[39margs, \u001b[39m*\u001b[39m\u001b[39m*\u001b[39mkwargs)\n\u001b[1;32m     20\u001b[0m args, kwargs \u001b[39m=\u001b[39m \u001b[39mcls\u001b[39m\u001b[39m.\u001b[39mpatch(obj, \u001b[39m*\u001b[39margs, \u001b[39m*\u001b[39m\u001b[39m*\u001b[39mkwargs)\n\u001b[0;32m---> 21\u001b[0m obj\u001b[39m.\u001b[39;49m\u001b[39m__init__\u001b[39;49m(\u001b[39m*\u001b[39;49margs, \u001b[39m*\u001b[39;49m\u001b[39m*\u001b[39;49mkwargs)\n\u001b[1;32m     22\u001b[0m \u001b[39mreturn\u001b[39;00m obj\n",
      "File \u001b[0;32m~/dev/climetlab/climetlab/decorators.py:76\u001b[0m, in \u001b[0;36mDecorator.__call__.<locals>.newfunc\u001b[0;34m(*args, **kwargs)\u001b[0m\n\u001b[1;32m     74\u001b[0m \u001b[39m@functools\u001b[39m\u001b[39m.\u001b[39mwraps(unwrapped)\n\u001b[1;32m     75\u001b[0m \u001b[39mdef\u001b[39;00m \u001b[39mnewfunc\u001b[39m(\u001b[39m*\u001b[39margs, \u001b[39m*\u001b[39m\u001b[39m*\u001b[39mkwargs):\n\u001b[0;32m---> 76\u001b[0m     args, kwargs \u001b[39m=\u001b[39m manager\u001b[39m.\u001b[39;49mapply_to_arg_kwargs(args, kwargs, func\u001b[39m=\u001b[39;49munwrapped)\n\u001b[1;32m     77\u001b[0m     \u001b[39mreturn\u001b[39;00m unwrapped(\u001b[39m*\u001b[39margs, \u001b[39m*\u001b[39m\u001b[39m*\u001b[39mkwargs)\n",
      "File \u001b[0;32m~/dev/climetlab/climetlab/arguments/input_manager.py:157\u001b[0m, in \u001b[0;36mInputManager.apply_to_arg_kwargs\u001b[0;34m(self, args, kwargs, func)\u001b[0m\n\u001b[1;32m    154\u001b[0m \u001b[39mself\u001b[39m\u001b[39m.\u001b[39mconsolidate_defaults(args_kwargs\u001b[39m.\u001b[39mdefaults)\n\u001b[1;32m    156\u001b[0m LOG\u001b[39m.\u001b[39mdebug(\u001b[39m\"\u001b[39m\u001b[39mApplying decorator stack to: \u001b[39m\u001b[39m%s\u001b[39;00m\u001b[39m \u001b[39m\u001b[39m%s\u001b[39;00m\u001b[39m\"\u001b[39m, args, kwargs)\n\u001b[0;32m--> 157\u001b[0m args_kwargs\u001b[39m.\u001b[39mkwargs \u001b[39m=\u001b[39m \u001b[39mself\u001b[39;49m\u001b[39m.\u001b[39;49mapply_to_kwargs(args_kwargs\u001b[39m.\u001b[39;49mkwargs)\n\u001b[1;32m    159\u001b[0m args_kwargs\u001b[39m.\u001b[39mensure_positionals_only()\n\u001b[1;32m    161\u001b[0m args, kwargs \u001b[39m=\u001b[39m args_kwargs\u001b[39m.\u001b[39margs, args_kwargs\u001b[39m.\u001b[39mkwargs\n",
      "File \u001b[0;32m~/dev/climetlab/climetlab/arguments/input_manager.py:104\u001b[0m, in \u001b[0;36mInputManager.apply_to_kwargs\u001b[0;34m(self, kwargs)\u001b[0m\n\u001b[1;32m    101\u001b[0m     \u001b[39melse\u001b[39;00m:\n\u001b[1;32m    102\u001b[0m         LOG\u001b[39m.\u001b[39mdebug(\u001b[39mf\u001b[39m\u001b[39m\"\u001b[39m\u001b[39m - apply \u001b[39m\u001b[39m{\u001b[39;00mt\u001b[39m}\u001b[39;00m\u001b[39m.\u001b[39m\u001b[39m\"\u001b[39m)\n\u001b[0;32m--> 104\u001b[0m     kwargs \u001b[39m=\u001b[39m t\u001b[39m.\u001b[39;49mexecute(kwargs)\n\u001b[1;32m    105\u001b[0m     LOG\u001b[39m.\u001b[39mdebug(\u001b[39mf\u001b[39m\u001b[39m\"\u001b[39m\u001b[39m       kwargs: \u001b[39m\u001b[39m{\u001b[39;00msafe_to_str(kwargs)\u001b[39m}\u001b[39;00m\u001b[39m\"\u001b[39m)\n\u001b[1;32m    107\u001b[0m \u001b[39mreturn\u001b[39;00m kwargs\n",
      "File \u001b[0;32m~/dev/climetlab/climetlab/arguments/transformers.py:42\u001b[0m, in \u001b[0;36mArgumentTransformer.execute\u001b[0;34m(self, kwargs)\u001b[0m\n\u001b[1;32m     40\u001b[0m \u001b[39mdef\u001b[39;00m \u001b[39mexecute\u001b[39m(\u001b[39mself\u001b[39m, kwargs):\n\u001b[1;32m     41\u001b[0m     \u001b[39mif\u001b[39;00m \u001b[39mself\u001b[39m\u001b[39m.\u001b[39mname \u001b[39min\u001b[39;00m kwargs:  \u001b[39m# TODO: discuss that\u001b[39;00m\n\u001b[0;32m---> 42\u001b[0m         kwargs[\u001b[39mself\u001b[39m\u001b[39m.\u001b[39mname] \u001b[39m=\u001b[39m \u001b[39mself\u001b[39;49m\u001b[39m.\u001b[39;49mtransform(kwargs[\u001b[39mself\u001b[39;49m\u001b[39m.\u001b[39;49mname])\n\u001b[1;32m     43\u001b[0m     \u001b[39mreturn\u001b[39;00m kwargs\n",
      "File \u001b[0;32m~/dev/climetlab/climetlab/arguments/transformers.py:139\u001b[0m, in \u001b[0;36mTypeTransformer.transform\u001b[0;34m(self, value)\u001b[0m\n\u001b[1;32m    137\u001b[0m \u001b[39mif\u001b[39;00m value \u001b[39mis\u001b[39;00m \u001b[39mNone\u001b[39;00m:\n\u001b[1;32m    138\u001b[0m     \u001b[39mreturn\u001b[39;00m value\n\u001b[0;32m--> 139\u001b[0m \u001b[39mreturn\u001b[39;00m \u001b[39mself\u001b[39;49m\u001b[39m.\u001b[39;49mtype\u001b[39m.\u001b[39;49mcast(value)\n",
      "File \u001b[0;32m~/dev/climetlab/climetlab/arguments/climetlab_types.py:53\u001b[0m, in \u001b[0;36mSingleOrListMixin.cast\u001b[0;34m(self, value)\u001b[0m\n\u001b[1;32m     51\u001b[0m \u001b[39mif\u001b[39;00m \u001b[39misinstance\u001b[39m(value, \u001b[39mtuple\u001b[39m):\n\u001b[1;32m     52\u001b[0m     \u001b[39mreturn\u001b[39;00m \u001b[39mtuple\u001b[39m([\u001b[39mself\u001b[39m\u001b[39m.\u001b[39m_cast(v) \u001b[39mfor\u001b[39;00m v \u001b[39min\u001b[39;00m value])\n\u001b[0;32m---> 53\u001b[0m \u001b[39mreturn\u001b[39;00m \u001b[39mself\u001b[39;49m\u001b[39m.\u001b[39;49m_cast(value)\n",
      "File \u001b[0;32m~/dev/climetlab/climetlab/arguments/climetlab_types.py:99\u001b[0m, in \u001b[0;36m_EnumType._cast\u001b[0;34m(self, value)\u001b[0m\n\u001b[1;32m     96\u001b[0m     \u001b[39mif\u001b[39;00m same(value, v):\n\u001b[1;32m     97\u001b[0m         \u001b[39mreturn\u001b[39;00m v\n\u001b[0;32m---> 99\u001b[0m \u001b[39mraise\u001b[39;00m \u001b[39mValueError\u001b[39;00m(\n\u001b[1;32m    100\u001b[0m     \u001b[39mf\u001b[39m\u001b[39m\"\u001b[39m\u001b[39mInvalid value \u001b[39m\u001b[39m'\u001b[39m\u001b[39m{\u001b[39;00mvalue\u001b[39m}\u001b[39;00m\u001b[39m'\u001b[39m\u001b[39m, possible values are \u001b[39m\u001b[39m{\u001b[39;00m\u001b[39mself\u001b[39m\u001b[39m.\u001b[39mvalues\u001b[39m}\u001b[39;00m\u001b[39m (\u001b[39m\u001b[39m{\u001b[39;00m\u001b[39mself\u001b[39m\u001b[39m.\u001b[39m\u001b[39m__class__\u001b[39m\u001b[39m.\u001b[39m\u001b[39m__name__\u001b[39m\u001b[39m}\u001b[39;00m\u001b[39m)\u001b[39m\u001b[39m\"\u001b[39m\n\u001b[1;32m    101\u001b[0m )\n",
      "\u001b[0;31mValueError\u001b[0m: Invalid value 'soiltemperature', possible values are ['soil_temperature', 'forecast_error'] (EnumSingleOrListType)"
     ]
    }
   ],
   "source": [
    "import climetlab as cml\n",
    "cml.load_dataset('my-plugin', parameter = 'soiltemperature')\n",
    "# For Github actions: skip"
   ]
  },
  {
   "cell_type": "markdown",
   "metadata": {},
   "source": [
    "Let us replace this error message \n",
    "\n",
    "\t`FileNotFoundError: [Errno 2] No such file or directory: 'soiltemperature.csv'`\n",
    "\n",
    "by a more helpful error message such as:\n",
    "\n",
    "\t`Invalid value 'soiltemperature', possible values are ['soil_temperature', 'forecast_error'] (EnumSingleOrListType)`"
   ]
  },
  {
   "cell_type": "code",
   "execution_count": 18,
   "metadata": {},
   "outputs": [],
   "source": [
    "# Add the climetlab decorator `@normalize`\n",
    "from climetlab.decorators import normalize\n",
    "\n",
    "@normalize(\"parameter\", ['soil_temperature', 'forecast_error'])\n",
    "def __init__(self, parameter):\n",
    "    self.source = cml.load_source(\"file\", parameter + '.csv')\n",
    "\n",
    "# And retry previous cell (You may need to restart kernel after doing pip install)\n",
    "\n",
    "# If you installed the plugin package with -e, you do not need to reinstall it.\n",
    "# If you did not use -e, you need to reinstall the plugin package to update it."
   ]
  },
  {
   "cell_type": "code",
   "execution_count": 19,
   "metadata": {},
   "outputs": [
    {
     "ename": "ValueError",
     "evalue": "Invalid value 'soiltemperature', possible values are ['soil_temperature', 'forecast_error'] (EnumSingleOrListType)",
     "output_type": "error",
     "traceback": [
      "\u001b[0;31m---------------------------------------------------------------------------\u001b[0m",
      "\u001b[0;31mValueError\u001b[0m                                Traceback (most recent call last)",
      "Cell \u001b[0;32mIn [19], line 2\u001b[0m\n\u001b[1;32m      1\u001b[0m \u001b[39mimport\u001b[39;00m \u001b[39mclimetlab\u001b[39;00m \u001b[39mas\u001b[39;00m \u001b[39mcml\u001b[39;00m\n\u001b[0;32m----> 2\u001b[0m cml\u001b[39m.\u001b[39;49mload_dataset(\u001b[39m'\u001b[39;49m\u001b[39mmy-plugin\u001b[39;49m\u001b[39m'\u001b[39;49m, parameter \u001b[39m=\u001b[39;49m \u001b[39m'\u001b[39;49m\u001b[39msoiltemperature\u001b[39;49m\u001b[39m'\u001b[39;49m)\n\u001b[1;32m      3\u001b[0m \u001b[39m# For Github actions: skip\u001b[39;00m\n",
      "File \u001b[0;32m~/dev/climetlab/climetlab/datasets/__init__.py:269\u001b[0m, in \u001b[0;36mload_dataset\u001b[0;34m(name, *args, **kwargs)\u001b[0m\n\u001b[1;32m    266\u001b[0m         \u001b[39mprint\u001b[39m(klass\u001b[39m.\u001b[39mterms_of_use)\n\u001b[1;32m    267\u001b[0m     TERMS_OF_USE_SHOWN\u001b[39m.\u001b[39madd(name)\n\u001b[0;32m--> 269\u001b[0m ds \u001b[39m=\u001b[39m klass(\u001b[39m*\u001b[39;49margs, \u001b[39m*\u001b[39;49m\u001b[39m*\u001b[39;49mkwargs)\u001b[39m.\u001b[39mmutate()\n\u001b[1;32m    270\u001b[0m \u001b[39mif\u001b[39;00m \u001b[39mgetattr\u001b[39m(ds, \u001b[39m\"\u001b[39m\u001b[39mname\u001b[39m\u001b[39m\"\u001b[39m, \u001b[39mNone\u001b[39;00m) \u001b[39mis\u001b[39;00m \u001b[39mNone\u001b[39;00m:\n\u001b[1;32m    271\u001b[0m     ds\u001b[39m.\u001b[39mname \u001b[39m=\u001b[39m name\n",
      "File \u001b[0;32m~/dev/climetlab/climetlab/core/__init__.py:21\u001b[0m, in \u001b[0;36mMetaBase.__call__\u001b[0;34m(cls, *args, **kwargs)\u001b[0m\n\u001b[1;32m     19\u001b[0m obj \u001b[39m=\u001b[39m \u001b[39mcls\u001b[39m\u001b[39m.\u001b[39m\u001b[39m__new__\u001b[39m(\u001b[39mcls\u001b[39m, \u001b[39m*\u001b[39margs, \u001b[39m*\u001b[39m\u001b[39m*\u001b[39mkwargs)\n\u001b[1;32m     20\u001b[0m args, kwargs \u001b[39m=\u001b[39m \u001b[39mcls\u001b[39m\u001b[39m.\u001b[39mpatch(obj, \u001b[39m*\u001b[39margs, \u001b[39m*\u001b[39m\u001b[39m*\u001b[39mkwargs)\n\u001b[0;32m---> 21\u001b[0m obj\u001b[39m.\u001b[39;49m\u001b[39m__init__\u001b[39;49m(\u001b[39m*\u001b[39;49margs, \u001b[39m*\u001b[39;49m\u001b[39m*\u001b[39;49mkwargs)\n\u001b[1;32m     22\u001b[0m \u001b[39mreturn\u001b[39;00m obj\n",
      "File \u001b[0;32m~/dev/climetlab/climetlab/decorators.py:76\u001b[0m, in \u001b[0;36mDecorator.__call__.<locals>.newfunc\u001b[0;34m(*args, **kwargs)\u001b[0m\n\u001b[1;32m     74\u001b[0m \u001b[39m@functools\u001b[39m\u001b[39m.\u001b[39mwraps(unwrapped)\n\u001b[1;32m     75\u001b[0m \u001b[39mdef\u001b[39;00m \u001b[39mnewfunc\u001b[39m(\u001b[39m*\u001b[39margs, \u001b[39m*\u001b[39m\u001b[39m*\u001b[39mkwargs):\n\u001b[0;32m---> 76\u001b[0m     args, kwargs \u001b[39m=\u001b[39m manager\u001b[39m.\u001b[39;49mapply_to_arg_kwargs(args, kwargs, func\u001b[39m=\u001b[39;49munwrapped)\n\u001b[1;32m     77\u001b[0m     \u001b[39mreturn\u001b[39;00m unwrapped(\u001b[39m*\u001b[39margs, \u001b[39m*\u001b[39m\u001b[39m*\u001b[39mkwargs)\n",
      "File \u001b[0;32m~/dev/climetlab/climetlab/arguments/input_manager.py:157\u001b[0m, in \u001b[0;36mInputManager.apply_to_arg_kwargs\u001b[0;34m(self, args, kwargs, func)\u001b[0m\n\u001b[1;32m    154\u001b[0m \u001b[39mself\u001b[39m\u001b[39m.\u001b[39mconsolidate_defaults(args_kwargs\u001b[39m.\u001b[39mdefaults)\n\u001b[1;32m    156\u001b[0m LOG\u001b[39m.\u001b[39mdebug(\u001b[39m\"\u001b[39m\u001b[39mApplying decorator stack to: \u001b[39m\u001b[39m%s\u001b[39;00m\u001b[39m \u001b[39m\u001b[39m%s\u001b[39;00m\u001b[39m\"\u001b[39m, args, kwargs)\n\u001b[0;32m--> 157\u001b[0m args_kwargs\u001b[39m.\u001b[39mkwargs \u001b[39m=\u001b[39m \u001b[39mself\u001b[39;49m\u001b[39m.\u001b[39;49mapply_to_kwargs(args_kwargs\u001b[39m.\u001b[39;49mkwargs)\n\u001b[1;32m    159\u001b[0m args_kwargs\u001b[39m.\u001b[39mensure_positionals_only()\n\u001b[1;32m    161\u001b[0m args, kwargs \u001b[39m=\u001b[39m args_kwargs\u001b[39m.\u001b[39margs, args_kwargs\u001b[39m.\u001b[39mkwargs\n",
      "File \u001b[0;32m~/dev/climetlab/climetlab/arguments/input_manager.py:104\u001b[0m, in \u001b[0;36mInputManager.apply_to_kwargs\u001b[0;34m(self, kwargs)\u001b[0m\n\u001b[1;32m    101\u001b[0m     \u001b[39melse\u001b[39;00m:\n\u001b[1;32m    102\u001b[0m         LOG\u001b[39m.\u001b[39mdebug(\u001b[39mf\u001b[39m\u001b[39m\"\u001b[39m\u001b[39m - apply \u001b[39m\u001b[39m{\u001b[39;00mt\u001b[39m}\u001b[39;00m\u001b[39m.\u001b[39m\u001b[39m\"\u001b[39m)\n\u001b[0;32m--> 104\u001b[0m     kwargs \u001b[39m=\u001b[39m t\u001b[39m.\u001b[39;49mexecute(kwargs)\n\u001b[1;32m    105\u001b[0m     LOG\u001b[39m.\u001b[39mdebug(\u001b[39mf\u001b[39m\u001b[39m\"\u001b[39m\u001b[39m       kwargs: \u001b[39m\u001b[39m{\u001b[39;00msafe_to_str(kwargs)\u001b[39m}\u001b[39;00m\u001b[39m\"\u001b[39m)\n\u001b[1;32m    107\u001b[0m \u001b[39mreturn\u001b[39;00m kwargs\n",
      "File \u001b[0;32m~/dev/climetlab/climetlab/arguments/transformers.py:42\u001b[0m, in \u001b[0;36mArgumentTransformer.execute\u001b[0;34m(self, kwargs)\u001b[0m\n\u001b[1;32m     40\u001b[0m \u001b[39mdef\u001b[39;00m \u001b[39mexecute\u001b[39m(\u001b[39mself\u001b[39m, kwargs):\n\u001b[1;32m     41\u001b[0m     \u001b[39mif\u001b[39;00m \u001b[39mself\u001b[39m\u001b[39m.\u001b[39mname \u001b[39min\u001b[39;00m kwargs:  \u001b[39m# TODO: discuss that\u001b[39;00m\n\u001b[0;32m---> 42\u001b[0m         kwargs[\u001b[39mself\u001b[39m\u001b[39m.\u001b[39mname] \u001b[39m=\u001b[39m \u001b[39mself\u001b[39;49m\u001b[39m.\u001b[39;49mtransform(kwargs[\u001b[39mself\u001b[39;49m\u001b[39m.\u001b[39;49mname])\n\u001b[1;32m     43\u001b[0m     \u001b[39mreturn\u001b[39;00m kwargs\n",
      "File \u001b[0;32m~/dev/climetlab/climetlab/arguments/transformers.py:139\u001b[0m, in \u001b[0;36mTypeTransformer.transform\u001b[0;34m(self, value)\u001b[0m\n\u001b[1;32m    137\u001b[0m \u001b[39mif\u001b[39;00m value \u001b[39mis\u001b[39;00m \u001b[39mNone\u001b[39;00m:\n\u001b[1;32m    138\u001b[0m     \u001b[39mreturn\u001b[39;00m value\n\u001b[0;32m--> 139\u001b[0m \u001b[39mreturn\u001b[39;00m \u001b[39mself\u001b[39;49m\u001b[39m.\u001b[39;49mtype\u001b[39m.\u001b[39;49mcast(value)\n",
      "File \u001b[0;32m~/dev/climetlab/climetlab/arguments/climetlab_types.py:53\u001b[0m, in \u001b[0;36mSingleOrListMixin.cast\u001b[0;34m(self, value)\u001b[0m\n\u001b[1;32m     51\u001b[0m \u001b[39mif\u001b[39;00m \u001b[39misinstance\u001b[39m(value, \u001b[39mtuple\u001b[39m):\n\u001b[1;32m     52\u001b[0m     \u001b[39mreturn\u001b[39;00m \u001b[39mtuple\u001b[39m([\u001b[39mself\u001b[39m\u001b[39m.\u001b[39m_cast(v) \u001b[39mfor\u001b[39;00m v \u001b[39min\u001b[39;00m value])\n\u001b[0;32m---> 53\u001b[0m \u001b[39mreturn\u001b[39;00m \u001b[39mself\u001b[39;49m\u001b[39m.\u001b[39;49m_cast(value)\n",
      "File \u001b[0;32m~/dev/climetlab/climetlab/arguments/climetlab_types.py:99\u001b[0m, in \u001b[0;36m_EnumType._cast\u001b[0;34m(self, value)\u001b[0m\n\u001b[1;32m     96\u001b[0m     \u001b[39mif\u001b[39;00m same(value, v):\n\u001b[1;32m     97\u001b[0m         \u001b[39mreturn\u001b[39;00m v\n\u001b[0;32m---> 99\u001b[0m \u001b[39mraise\u001b[39;00m \u001b[39mValueError\u001b[39;00m(\n\u001b[1;32m    100\u001b[0m     \u001b[39mf\u001b[39m\u001b[39m\"\u001b[39m\u001b[39mInvalid value \u001b[39m\u001b[39m'\u001b[39m\u001b[39m{\u001b[39;00mvalue\u001b[39m}\u001b[39;00m\u001b[39m'\u001b[39m\u001b[39m, possible values are \u001b[39m\u001b[39m{\u001b[39;00m\u001b[39mself\u001b[39m\u001b[39m.\u001b[39mvalues\u001b[39m}\u001b[39;00m\u001b[39m (\u001b[39m\u001b[39m{\u001b[39;00m\u001b[39mself\u001b[39m\u001b[39m.\u001b[39m\u001b[39m__class__\u001b[39m\u001b[39m.\u001b[39m\u001b[39m__name__\u001b[39m\u001b[39m}\u001b[39;00m\u001b[39m)\u001b[39m\u001b[39m\"\u001b[39m\n\u001b[1;32m    101\u001b[0m )\n",
      "\u001b[0;31mValueError\u001b[0m: Invalid value 'soiltemperature', possible values are ['soil_temperature', 'forecast_error'] (EnumSingleOrListType)"
     ]
    }
   ],
   "source": [
    "import climetlab as cml\n",
    "cml.load_dataset('my-plugin', parameter = 'soiltemperature')\n",
    "# For Github actions: skip"
   ]
  },
  {
   "cell_type": "markdown",
   "metadata": {},
   "source": [
    "This also takes care of using lower and uppercase letters:"
   ]
  },
  {
   "cell_type": "code",
   "execution_count": null,
   "metadata": {},
   "outputs": [],
   "source": [
    "import climetlab as cml\n",
    "ds = cml.load_dataset('my-plugin', parameter = 'SOIL_TEMPERATURE') # ok\n",
    "ds = cml.load_dataset('my-plugin', parameter = 'Soil_Temperature') # ok"
   ]
  },
  {
   "cell_type": "markdown",
   "metadata": {},
   "source": [
    "## Dates time parameters\n",
    "Date and time are so ubiquitous in the climate and meteorology domains that we have developed specific tools to handle these input arguments.\n",
    "\n",
    "Similar to `@normalize(\"parameter\", ['soil_temperature', 'forecast_error'])`\n",
    "\n",
    "Adding `@normalize(\"argument\", \"date(%Y-%m-%d)\")` transforms the input as a string with the requested format.\n",
    "\n",
    "Relevant CliMetLab documentation: https://climetlab.readthedocs.io/en/latest/contributing/normalize.html"
   ]
  },
  {
   "cell_type": "markdown",
   "metadata": {},
   "source": [
    "# CliMetLab dataset plugin blueprint features\n",
    "\n",
    "Here is a minimal example: https://github.com/ecmwf/climetlab-demo-dataset\n",
    "\n",
    "Here is a real-life example: https://github.com/mchantry/climetlab-mltc-surface-observation-postprocessing\n",
    "\n",
    "- Python pip package structure:\n",
    "\t- setup.py + MANIFEST\n",
    "\t- version file\n",
    "- README\n",
    "\t- Links to notebook in colab/binder/etc. \n",
    "- Examples in notebooks:\n",
    "\t- Used in README links\n",
    "\t- Tested in github actions.\n",
    "- Test in tests/*\n",
    "\t- Using pytest.\n",
    "\t- Used in github actions.\n",
    "- Github actions: yaml files in .github/workflows/*.yml\n",
    "\t- Check code quality\n",
    "\t- Run tests (fron tests/*.py) on various platform and python versions\n",
    "- Automated release of the pip package from github (need and account on pypi.org)\n",
    "\t- Make sure the tests pass.\n",
    "\t- Update the */version file\n",
    "\t- Trigger a release : https://docs.github.com/en/repositories/releasing-projects-on-github/managing-releases-in-a-repository\n",
    "- Legal stuff: LICENCE/AUTHOR/CONTRIBUTORS\n"
   ]
  },
  {
   "cell_type": "markdown",
   "metadata": {},
   "source": [
    "Compare to https://github.com/ecmwf/climetlab-demo-source/blob/master/climetlab_demo_source/__init__.py\n",
    "\n",
    "Compare to https://github.com/ecmwf-lab/climetlab-google-drive-source/blob/main/climetlab_google_drive_source/__init__.py"
   ]
  }
 ],
 "metadata": {
  "kernelspec": {
   "display_name": "Python 3 (ipykernel)",
   "language": "python",
   "name": "python3"
  },
  "language_info": {
   "codemirror_mode": {
    "name": "ipython",
    "version": 3
   },
   "file_extension": ".py",
   "mimetype": "text/x-python",
   "name": "python",
   "nbconvert_exporter": "python",
   "pygments_lexer": "ipython3",
   "version": "3.8.10"
  },
  "vscode": {
   "interpreter": {
    "hash": "4270e1ac5bef27d5e6a33f4883da48ffc137d9a63a21d2e4dad8cf8937cea50e"
   }
  }
 },
 "nbformat": 4,
 "nbformat_minor": 4
}
